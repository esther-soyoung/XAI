{
 "cells": [
  {
   "cell_type": "markdown",
   "metadata": {},
   "source": [
    "# Layer-wise Relevance Propagation (LRP)\n",
    "##### - Jung Jung Ho "
   ]
  },
  {
   "cell_type": "code",
   "execution_count": 82,
   "metadata": {},
   "outputs": [
    {
     "name": "stdout",
     "output_type": "stream",
     "text": [
      "Tensorflow version:  2.1.0\n"
     ]
    }
   ],
   "source": [
    "import numpy as np\n",
    "import pandas as pd\n",
    "import matplotlib.pyplot as plt\n",
    "import seaborn as sns\n",
    "\n",
    "import tensorflow as tf\n",
    "\n",
    "print(\"Tensorflow version: \", tf.__version__)"
   ]
  },
  {
   "cell_type": "code",
   "execution_count": 83,
   "metadata": {},
   "outputs": [],
   "source": [
    "(train_X, train_y) , (test_X, test_y) = tf.keras.datasets.mnist.load_data()"
   ]
  },
  {
   "cell_type": "code",
   "execution_count": 84,
   "metadata": {},
   "outputs": [
    {
     "data": {
      "text/plain": [
       "(60000, 28, 28)"
      ]
     },
     "execution_count": 84,
     "metadata": {},
     "output_type": "execute_result"
    }
   ],
   "source": [
    "train_X.shape"
   ]
  },
  {
   "cell_type": "code",
   "execution_count": 48,
   "metadata": {
    "scrolled": true
   },
   "outputs": [],
   "source": [
    "from tensorflow.keras.layers import *\n",
    "\n",
    "strides = (1,1)\n",
    "\n",
    "#input_shape = (28, 28, 1)\n",
    "n = len(train_X)\n",
    "train_X = train_X.reshape((-1,28,28,1))\n",
    "\n",
    "CNN = tf.keras.Sequential()\n",
    "\n",
    "CNN.add(Conv2D(input_shape = (28,28,1),\n",
    "               filters = 5, kernel_size = (5,5),\n",
    "               strides = strides, padding=\"same\", \n",
    "               activation = 'relu'))\n",
    "\n",
    "CNN.add(MaxPool2D(pool_size = (2,2)))\n",
    "\n",
    "CNN.add(Conv2D(filters = 5, kernel_size = (5,5),\n",
    "               strides = strides, padding = \"same\",\n",
    "               activation = 'relu'))\n",
    "\n",
    "CNN.add(MaxPool2D(pool_size = (2,2)))\n",
    "\n",
    "CNN.add(Conv2D(filters = 20, kernel_size = (5,5),\n",
    "               strides = strides, padding = \"same\",\n",
    "               activation = 'relu'))\n",
    "\n",
    "#CNN.add(Dropout(1.0))\n",
    "\n",
    "CNN.add(Flatten())\n",
    "\n",
    "CNN.add(Dense(units = 10, activation = \"softmax\"))\n",
    "\n"
   ]
  },
  {
   "cell_type": "code",
   "execution_count": 49,
   "metadata": {},
   "outputs": [
    {
     "name": "stdout",
     "output_type": "stream",
     "text": [
      "Model: \"sequential_2\"\n",
      "_________________________________________________________________\n",
      "Layer (type)                 Output Shape              Param #   \n",
      "=================================================================\n",
      "conv2d_13 (Conv2D)           (None, 28, 28, 5)         130       \n",
      "_________________________________________________________________\n",
      "max_pooling2d_10 (MaxPooling (None, 14, 14, 5)         0         \n",
      "_________________________________________________________________\n",
      "conv2d_14 (Conv2D)           (None, 14, 14, 5)         630       \n",
      "_________________________________________________________________\n",
      "max_pooling2d_11 (MaxPooling (None, 7, 7, 5)           0         \n",
      "_________________________________________________________________\n",
      "conv2d_15 (Conv2D)           (None, 7, 7, 20)          2520      \n",
      "_________________________________________________________________\n",
      "flatten_1 (Flatten)          (None, 980)               0         \n",
      "_________________________________________________________________\n",
      "dense_1 (Dense)              (None, 10)                9810      \n",
      "=================================================================\n",
      "Total params: 13,090\n",
      "Trainable params: 13,090\n",
      "Non-trainable params: 0\n",
      "_________________________________________________________________\n"
     ]
    }
   ],
   "source": [
    "CNN.summary()"
   ]
  },
  {
   "cell_type": "code",
   "execution_count": 50,
   "metadata": {},
   "outputs": [],
   "source": [
    "CNN.compile(loss = \"sparse_categorical_crossentropy\", optimizer = \"rmsprop\", metrics = [\"accuracy\"])"
   ]
  },
  {
   "cell_type": "code",
   "execution_count": 51,
   "metadata": {},
   "outputs": [
    {
     "name": "stdout",
     "output_type": "stream",
     "text": [
      "Train on 45000 samples, validate on 15000 samples\n",
      "Epoch 1/7\n",
      "45000/45000 [==============================] - 9s 197us/sample - loss: 13.9307 - accuracy: 0.2408 - val_loss: 2.7751 - val_accuracy: 0.5146\n",
      "Epoch 2/7\n",
      "45000/45000 [==============================] - 8s 186us/sample - loss: 2.1866 - accuracy: 0.5821 - val_loss: 1.3697 - val_accuracy: 0.6956\n",
      "Epoch 3/7\n",
      "45000/45000 [==============================] - 9s 202us/sample - loss: 1.2263 - accuracy: 0.7159 - val_loss: 0.9971 - val_accuracy: 0.7629\n",
      "Epoch 4/7\n",
      "45000/45000 [==============================] - 10s 226us/sample - loss: 0.9067 - accuracy: 0.7786 - val_loss: 0.8398 - val_accuracy: 0.7953\n",
      "Epoch 5/7\n",
      "45000/45000 [==============================] - 10s 232us/sample - loss: 0.7442 - accuracy: 0.8113 - val_loss: 0.6162 - val_accuracy: 0.8434\n",
      "Epoch 6/7\n",
      "45000/45000 [==============================] - 10s 227us/sample - loss: 0.6168 - accuracy: 0.8390 - val_loss: 0.6568 - val_accuracy: 0.8341\n",
      "Epoch 7/7\n",
      "45000/45000 [==============================] - 10s 230us/sample - loss: 0.5673 - accuracy: 0.8494 - val_loss: 0.5120 - val_accuracy: 0.8681\n"
     ]
    },
    {
     "data": {
      "text/plain": [
       "<tensorflow.python.keras.callbacks.History at 0x7f22d43567d0>"
      ]
     },
     "execution_count": 51,
     "metadata": {},
     "output_type": "execute_result"
    }
   ],
   "source": [
    "CNN.fit(train_X, train_y, epochs = 7, batch_size=6000, validation_split=0.25\n",
    "            , callbacks = [tf.keras.callbacks.EarlyStopping(patience=5, monitor=\"val_loss\")])"
   ]
  },
  {
   "cell_type": "code",
   "execution_count": 52,
   "metadata": {},
   "outputs": [
    {
     "data": {
      "text/plain": [
       "[<tensorflow.python.keras.layers.convolutional.Conv2D at 0x7f22d4723fd0>,\n",
       " <tensorflow.python.keras.layers.pooling.MaxPooling2D at 0x7f22d4721290>,\n",
       " <tensorflow.python.keras.layers.convolutional.Conv2D at 0x7f22d459cfd0>,\n",
       " <tensorflow.python.keras.layers.pooling.MaxPooling2D at 0x7f22d457a210>,\n",
       " <tensorflow.python.keras.layers.convolutional.Conv2D at 0x7f22d471ad10>,\n",
       " <tensorflow.python.keras.layers.core.Flatten at 0x7f22d4730490>,\n",
       " <tensorflow.python.keras.layers.core.Dense at 0x7f22d4730310>]"
      ]
     },
     "execution_count": 52,
     "metadata": {},
     "output_type": "execute_result"
    }
   ],
   "source": [
    "CNN.layers"
   ]
  },
  {
   "cell_type": "code",
   "execution_count": 53,
   "metadata": {},
   "outputs": [],
   "source": [
    "\n",
    "hidden_1, pool_1, hidden_2, pool_2, hidden_3 = CNN.layers[0], \\\n",
    "                                               CNN.layers[1], \\\n",
    "                                               CNN.layers[2], \\\n",
    "                                               CNN.layers[3], \\\n",
    "                                               CNN.layers[4]\n",
    "\n",
    "layers = [hidden_1, pool_1, hidden_2, pool_2, hidden_3]\n",
    "\n",
    "#layers = CNN.layers[:-2]\n",
    "\n",
    "weights = CNN.get_weights()[::2]\n",
    "biases = CNN.get_weights()[1::2]\n",
    "\n"
   ]
  },
  {
   "cell_type": "code",
   "execution_count": 54,
   "metadata": {},
   "outputs": [
    {
     "data": {
      "text/plain": [
       "<tf.Tensor: shape=(3, 28, 28, 5), dtype=float32, numpy=\n",
       "array([[[[0.        , 0.        , 0.01378341, 0.        , 0.        ],\n",
       "         [0.        , 0.        , 0.01378341, 0.        , 0.        ],\n",
       "         [0.        , 0.        , 0.01378341, 0.        , 0.        ],\n",
       "         ...,\n",
       "         [0.        , 0.        , 0.01378341, 0.        , 0.        ],\n",
       "         [0.        , 0.        , 0.01378341, 0.        , 0.        ],\n",
       "         [0.        , 0.        , 0.01378341, 0.        , 0.        ]],\n",
       "\n",
       "        [[0.        , 0.        , 0.01378341, 0.        , 0.        ],\n",
       "         [0.        , 0.        , 0.01378341, 0.        , 0.        ],\n",
       "         [0.        , 0.        , 0.01378341, 0.        , 0.        ],\n",
       "         ...,\n",
       "         [0.        , 0.        , 0.01378341, 0.        , 0.        ],\n",
       "         [0.        , 0.        , 0.01378341, 0.        , 0.        ],\n",
       "         [0.        , 0.        , 0.01378341, 0.        , 0.        ]],\n",
       "\n",
       "        [[0.        , 0.        , 0.01378341, 0.        , 0.        ],\n",
       "         [0.        , 0.        , 0.01378341, 0.        , 0.        ],\n",
       "         [0.        , 0.        , 0.01378341, 0.        , 0.        ],\n",
       "         ...,\n",
       "         [0.        , 0.        , 0.01378341, 0.        , 0.        ],\n",
       "         [0.        , 0.        , 0.01378341, 0.        , 0.        ],\n",
       "         [0.        , 0.        , 0.01378341, 0.        , 0.        ]],\n",
       "\n",
       "        ...,\n",
       "\n",
       "        [[0.        , 0.        , 0.01378341, 0.        , 0.        ],\n",
       "         [0.        , 0.        , 0.01378341, 0.        , 0.        ],\n",
       "         [0.        , 0.        , 0.01378341, 0.        , 0.        ],\n",
       "         ...,\n",
       "         [0.        , 0.        , 0.01378341, 0.        , 0.        ],\n",
       "         [0.        , 0.        , 0.01378341, 0.        , 0.        ],\n",
       "         [0.        , 0.        , 0.01378341, 0.        , 0.        ]],\n",
       "\n",
       "        [[0.        , 0.        , 0.01378341, 0.        , 0.        ],\n",
       "         [0.        , 0.        , 0.01378341, 0.        , 0.        ],\n",
       "         [0.        , 0.        , 0.01378341, 0.        , 0.        ],\n",
       "         ...,\n",
       "         [0.        , 0.        , 0.01378341, 0.        , 0.        ],\n",
       "         [0.        , 0.        , 0.01378341, 0.        , 0.        ],\n",
       "         [0.        , 0.        , 0.01378341, 0.        , 0.        ]],\n",
       "\n",
       "        [[0.        , 0.        , 0.01378341, 0.        , 0.        ],\n",
       "         [0.        , 0.        , 0.01378341, 0.        , 0.        ],\n",
       "         [0.        , 0.        , 0.01378341, 0.        , 0.        ],\n",
       "         ...,\n",
       "         [0.        , 0.        , 0.01378341, 0.        , 0.        ],\n",
       "         [0.        , 0.        , 0.01378341, 0.        , 0.        ],\n",
       "         [0.        , 0.        , 0.01378341, 0.        , 0.        ]]],\n",
       "\n",
       "\n",
       "       [[[0.        , 0.        , 0.01378341, 0.        , 0.        ],\n",
       "         [0.        , 0.        , 0.01378341, 0.        , 0.        ],\n",
       "         [0.        , 0.        , 0.01378341, 0.        , 0.        ],\n",
       "         ...,\n",
       "         [0.        , 0.        , 0.01378341, 0.        , 0.        ],\n",
       "         [0.        , 0.        , 0.01378341, 0.        , 0.        ],\n",
       "         [0.        , 0.        , 0.01378341, 0.        , 0.        ]],\n",
       "\n",
       "        [[0.        , 0.        , 0.01378341, 0.        , 0.        ],\n",
       "         [0.        , 0.        , 0.01378341, 0.        , 0.        ],\n",
       "         [0.        , 0.        , 0.01378341, 0.        , 0.        ],\n",
       "         ...,\n",
       "         [0.        , 0.        , 0.01378341, 0.        , 0.        ],\n",
       "         [0.        , 0.        , 0.01378341, 0.        , 0.        ],\n",
       "         [0.        , 0.        , 0.01378341, 0.        , 0.        ]],\n",
       "\n",
       "        [[0.        , 0.        , 0.01378341, 0.        , 0.        ],\n",
       "         [0.        , 0.        , 0.01378341, 0.        , 0.        ],\n",
       "         [0.        , 0.        , 0.01378341, 0.        , 0.        ],\n",
       "         ...,\n",
       "         [0.        , 0.        , 0.01378341, 0.        , 0.        ],\n",
       "         [0.        , 0.        , 0.01378341, 0.        , 0.        ],\n",
       "         [0.        , 0.        , 0.01378341, 0.        , 0.        ]],\n",
       "\n",
       "        ...,\n",
       "\n",
       "        [[0.        , 0.        , 0.01378341, 0.        , 0.        ],\n",
       "         [0.        , 0.        , 0.01378341, 0.        , 0.        ],\n",
       "         [0.        , 0.        , 0.01378341, 0.        , 0.        ],\n",
       "         ...,\n",
       "         [0.        , 0.        , 0.01378341, 0.        , 0.        ],\n",
       "         [0.        , 0.        , 0.01378341, 0.        , 0.        ],\n",
       "         [0.        , 0.        , 0.01378341, 0.        , 0.        ]],\n",
       "\n",
       "        [[0.        , 0.        , 0.01378341, 0.        , 0.        ],\n",
       "         [0.        , 0.        , 0.01378341, 0.        , 0.        ],\n",
       "         [0.        , 0.        , 0.01378341, 0.        , 0.        ],\n",
       "         ...,\n",
       "         [0.        , 0.        , 0.01378341, 0.        , 0.        ],\n",
       "         [0.        , 0.        , 0.01378341, 0.        , 0.        ],\n",
       "         [0.        , 0.        , 0.01378341, 0.        , 0.        ]],\n",
       "\n",
       "        [[0.        , 0.        , 0.01378341, 0.        , 0.        ],\n",
       "         [0.        , 0.        , 0.01378341, 0.        , 0.        ],\n",
       "         [0.        , 0.        , 0.01378341, 0.        , 0.        ],\n",
       "         ...,\n",
       "         [0.        , 0.        , 0.01378341, 0.        , 0.        ],\n",
       "         [0.        , 0.        , 0.01378341, 0.        , 0.        ],\n",
       "         [0.        , 0.        , 0.01378341, 0.        , 0.        ]]],\n",
       "\n",
       "\n",
       "       [[[0.        , 0.        , 0.01378341, 0.        , 0.        ],\n",
       "         [0.        , 0.        , 0.01378341, 0.        , 0.        ],\n",
       "         [0.        , 0.        , 0.01378341, 0.        , 0.        ],\n",
       "         ...,\n",
       "         [0.        , 0.        , 0.01378341, 0.        , 0.        ],\n",
       "         [0.        , 0.        , 0.01378341, 0.        , 0.        ],\n",
       "         [0.        , 0.        , 0.01378341, 0.        , 0.        ]],\n",
       "\n",
       "        [[0.        , 0.        , 0.01378341, 0.        , 0.        ],\n",
       "         [0.        , 0.        , 0.01378341, 0.        , 0.        ],\n",
       "         [0.        , 0.        , 0.01378341, 0.        , 0.        ],\n",
       "         ...,\n",
       "         [0.        , 0.        , 0.01378341, 0.        , 0.        ],\n",
       "         [0.        , 0.        , 0.01378341, 0.        , 0.        ],\n",
       "         [0.        , 0.        , 0.01378341, 0.        , 0.        ]],\n",
       "\n",
       "        [[0.        , 0.        , 0.01378341, 0.        , 0.        ],\n",
       "         [0.        , 0.        , 0.01378341, 0.        , 0.        ],\n",
       "         [0.        , 0.        , 0.01378341, 0.        , 0.        ],\n",
       "         ...,\n",
       "         [0.        , 0.        , 0.01378341, 0.        , 0.        ],\n",
       "         [0.        , 0.        , 0.01378341, 0.        , 0.        ],\n",
       "         [0.        , 0.        , 0.01378341, 0.        , 0.        ]],\n",
       "\n",
       "        ...,\n",
       "\n",
       "        [[0.        , 0.        , 0.01378341, 0.        , 0.        ],\n",
       "         [0.        , 0.        , 0.01378341, 0.        , 0.        ],\n",
       "         [0.        , 0.        , 0.01378341, 0.        , 0.        ],\n",
       "         ...,\n",
       "         [0.        , 0.        , 0.01378341, 0.        , 0.        ],\n",
       "         [0.        , 0.        , 0.01378341, 0.        , 0.        ],\n",
       "         [0.        , 0.        , 0.01378341, 0.        , 0.        ]],\n",
       "\n",
       "        [[0.        , 0.        , 0.01378341, 0.        , 0.        ],\n",
       "         [0.        , 0.        , 0.01378341, 0.        , 0.        ],\n",
       "         [0.        , 0.        , 0.01378341, 0.        , 0.        ],\n",
       "         ...,\n",
       "         [0.        , 0.        , 0.01378341, 0.        , 0.        ],\n",
       "         [0.        , 0.        , 0.01378341, 0.        , 0.        ],\n",
       "         [0.        , 0.        , 0.01378341, 0.        , 0.        ]],\n",
       "\n",
       "        [[0.        , 0.        , 0.01378341, 0.        , 0.        ],\n",
       "         [0.        , 0.        , 0.01378341, 0.        , 0.        ],\n",
       "         [0.        , 0.        , 0.01378341, 0.        , 0.        ],\n",
       "         ...,\n",
       "         [0.        , 0.        , 0.01378341, 0.        , 0.        ],\n",
       "         [0.        , 0.        , 0.01378341, 0.        , 0.        ],\n",
       "         [0.        , 0.        , 0.01378341, 0.        , 0.        ]]]],\n",
       "      dtype=float32)>"
      ]
     },
     "execution_count": 54,
     "metadata": {},
     "output_type": "execute_result"
    }
   ],
   "source": [
    "hidden_1(tf.cast(test_X[:3,:].reshape(-1,28,28,1), tf.float32))"
   ]
  },
  {
   "cell_type": "code",
   "execution_count": 55,
   "metadata": {},
   "outputs": [],
   "source": [
    "from tensorflow.python.ops import gen_nn_ops\n",
    "\n",
    "class visLayer():\n",
    "    def __init__(self, data, N, layers):\n",
    "        self.data = data\n",
    "        self.N = N\n",
    "        self.layers = layers\n",
    "        self.n_layers = len(layers)\n",
    "        \n",
    "        self.by_data = dict()\n",
    "        \n",
    "        for i in range(N):\n",
    "            tmp = self.data[i]\n",
    "            tmp = tf.cast(tmp.reshape(-1,*tmp.shape), tf.float32)\n",
    "            data_activation = [tmp]\n",
    "            for layer in self.layers:\n",
    "                tmp = layer(tmp)\n",
    "                data_activation.append(tmp)\n",
    "            self.by_data[\"data_{}\".format(i)] = data_activation\n",
    "\n",
    "    \n",
    "    def show(self):\n",
    "        for data_depict in self.by_data.values():\n",
    "            plt.figure(figsize = ((self.n_layers+1)*5,5))\n",
    "            for i, image in enumerate(data_depict):\n",
    "                plt.subplot(1, self.n_layers+1, i+1)\n",
    "                collapse = tf.math.reduce_mean(image, axis = 3)\n",
    "                plt.imshow(tf.reshape(collapse, collapse.shape[1:]), interpolation = \"nearest\", cmap = \"gray\")\n",
    "            plt.show()\n",
    "            \n",
    "        "
   ]
  },
  {
   "cell_type": "code",
   "execution_count": 56,
   "metadata": {},
   "outputs": [],
   "source": [
    "ttt = visLayer(train_X, layers = layers, N = 10)"
   ]
  },
  {
   "cell_type": "code",
   "execution_count": 57,
   "metadata": {},
   "outputs": [
    {
     "data": {
      "text/plain": [
       "[<tensorflow.python.keras.layers.convolutional.Conv2D at 0x7f22d4723fd0>,\n",
       " <tensorflow.python.keras.layers.pooling.MaxPooling2D at 0x7f22d4721290>,\n",
       " <tensorflow.python.keras.layers.convolutional.Conv2D at 0x7f22d459cfd0>,\n",
       " <tensorflow.python.keras.layers.pooling.MaxPooling2D at 0x7f22d457a210>,\n",
       " <tensorflow.python.keras.layers.convolutional.Conv2D at 0x7f22d471ad10>]"
      ]
     },
     "execution_count": 57,
     "metadata": {},
     "output_type": "execute_result"
    }
   ],
   "source": [
    "layers"
   ]
  },
  {
   "cell_type": "code",
   "execution_count": 58,
   "metadata": {
    "scrolled": false
   },
   "outputs": [
    {
     "data": {
      "image/png": "[encoded data removed]",
      "text/plain": [
       "<Figure size 2160x360 with 6 Axes>"
      ]
     },
     "metadata": {
      "needs_background": "light"
     },
     "output_type": "display_data"
    },
    {
     "data": {
      "image/png": "[encoded data removed]",
      "text/plain": [
       "<Figure size 2160x360 with 6 Axes>"
      ]
     },
     "metadata": {
      "needs_background": "light"
     },
     "output_type": "display_data"
    },
    {
     "data": {
      "image/png": "[encoded data removed]",
      "text/plain": [
       "<Figure size 2160x360 with 6 Axes>"
      ]
     },
     "metadata": {
      "needs_background": "light"
     },
     "output_type": "display_data"
    },
    {
     "data": {
      "image/png": "[encoded data removed]",
      "text/plain": [
       "<Figure size 2160x360 with 6 Axes>"
      ]
     },
     "metadata": {
      "needs_background": "light"
     },
     "output_type": "display_data"
    },
    {
     "data": {
      "image/png": "[encoded data removed]",
      "text/plain": [
       "<Figure size 2160x360 with 6 Axes>"
      ]
     },
     "metadata": {
      "needs_background": "light"
     },
     "output_type": "display_data"
    },
    {
     "data": {
      "image/png": "[encoded data removed]",
      "text/plain": [
       "<Figure size 2160x360 with 6 Axes>"
      ]
     },
     "metadata": {
      "needs_background": "light"
     },
     "output_type": "display_data"
    },
    {
     "data": {
      "image/png": "[encoded data removed]",
      "text/plain": [
       "<Figure size 2160x360 with 6 Axes>"
      ]
     },
     "metadata": {
      "needs_background": "light"
     },
     "output_type": "display_data"
    },
    {
     "data": {
      "image/png": "[encoded data removed]",
      "text/plain": [
       "<Figure size 2160x360 with 6 Axes>"
      ]
     },
     "metadata": {
      "needs_background": "light"
     },
     "output_type": "display_data"
    },
    {
     "data": {
      "image/png": "[encoded data removed]",
      "text/plain": [
       "<Figure size 2160x360 with 6 Axes>"
      ]
     },
     "metadata": {
      "needs_background": "light"
     },
     "output_type": "display_data"
    },
    {
     "data": {
      "image/png": "[encoded data removed]",
      "text/plain": [
       "<Figure size 2160x360 with 6 Axes>"
      ]
     },
     "metadata": {
      "needs_background": "light"
     },
     "output_type": "display_data"
    }
   ],
   "source": [
    "ttt.show()"
   ]
  },
  {
   "cell_type": "code",
   "execution_count": 59,
   "metadata": {},
   "outputs": [],
   "source": [
    "import copy\n",
    "tmp = train_X[0,:].reshape(-1,28,28,1)\n",
    "tmp = tf.cast(tmp, tf.float32)\n",
    "activations = []\n",
    "\n",
    "a = copy.deepcopy(tmp)\n",
    "\n",
    "for layer in layers:\n",
    "    a = layer(a)\n",
    "    activations.append(a)"
   ]
  },
  {
   "cell_type": "code",
   "execution_count": 60,
   "metadata": {
    "scrolled": false
   },
   "outputs": [
    {
     "data": {
      "text/plain": [
       "([<tensorflow.python.keras.layers.convolutional.Conv2D at 0x7f22d4723fd0>,\n",
       "  <tensorflow.python.keras.layers.pooling.MaxPooling2D at 0x7f22d4721290>,\n",
       "  <tensorflow.python.keras.layers.convolutional.Conv2D at 0x7f22d459cfd0>,\n",
       "  <tensorflow.python.keras.layers.pooling.MaxPooling2D at 0x7f22d457a210>,\n",
       "  <tensorflow.python.keras.layers.convolutional.Conv2D at 0x7f22d471ad10>],\n",
       " [(5, 5, 1, 5), (5, 5, 5, 5), (5, 5, 5, 20), (980, 10)],\n",
       " [(5,), (5,), (20,), (10,)],\n",
       " [TensorShape([1, 28, 28, 5]),\n",
       "  TensorShape([1, 14, 14, 5]),\n",
       "  TensorShape([1, 14, 14, 5]),\n",
       "  TensorShape([1, 7, 7, 5]),\n",
       "  TensorShape([1, 7, 7, 20])])"
      ]
     },
     "execution_count": 60,
     "metadata": {},
     "output_type": "execute_result"
    }
   ],
   "source": [
    "layers, [*map(lambda x: x.shape, weights)], [*map(lambda x: x.shape, biases)], [*map(lambda x: x.shape, activations)]"
   ]
  },
  {
   "cell_type": "code",
   "execution_count": 61,
   "metadata": {},
   "outputs": [],
   "source": [
    "def getGradient(activation, weight, bias):\n",
    "    W = tf.math.maximum(0., weight)\n",
    "    b = tf.math.maximum(0., bias)\n",
    "    z = tf.matmul(activation, W) + b\n",
    "    \n",
    "    dX = tf.matmul(1/z, tf.transpose(W))\n",
    "    \n",
    "    return dX"
   ]
  },
  {
   "cell_type": "code",
   "execution_count": 62,
   "metadata": {},
   "outputs": [],
   "source": [
    "def backprop_dense(activation, weight, bias, relevance):\n",
    "    W = tf.math.maximum(0., weight)\n",
    "    b = tf.math.maximum(0., bias)\n",
    "    z = tf.matmul(activation, W) + b\n",
    "    \n",
    "    s = relevance / z\n",
    "    c = tf.matmul(s, tf.transpose(W))\n",
    "    \n",
    "    return activation * c"
   ]
  },
  {
   "cell_type": "code",
   "execution_count": 63,
   "metadata": {},
   "outputs": [],
   "source": [
    "from tensorflow.python.ops import gen_nn_ops\n",
    "\n",
    "def backprop_pooling(activation, relevance):\n",
    "\n",
    "    z = MaxPool2D(pool_size = (2,2))(activation) + 1e-10\n",
    "    s = relevance / z\n",
    "\n",
    "    c = gen_nn_ops.max_pool_grad_v2(orig_input = activation, orig_output = z, grad = s, \n",
    "                                   ksize = [1,2,2,1], strides = [1,2,2,1], padding = \"SAME\")\n",
    "    \n",
    "    return activation*c"
   ]
  },
  {
   "cell_type": "code",
   "execution_count": 64,
   "metadata": {},
   "outputs": [],
   "source": [
    "def backprop_conv(activation, weight, bias, relevance):\n",
    "    strides = (1,1)\n",
    "    W = tf.math.maximum(0., weight)\n",
    "    b = tf.math.maximum(0., bias)\n",
    "    layer = Conv2D(filters = W.shape[-1], kernel_size = (W.shape[0], W.shape[1]), padding= \"SAME\")\n",
    "    \n",
    "    layer.build(input_shape = activation.shape)\n",
    "\n",
    "    layer.set_weights([W,b])\n",
    "    z = layer(activation)\n",
    "    # z = tf.nn.conv2d(activation, w, strides, padding = \"SAME\")\n",
    "    # z = tf.nn.bias_add(z,b)\n",
    "    s = relevance / z\n",
    "    c = tf.compat.v1.nn.conv2d_backprop_input(activation.shape, w, s, [1,*strides,1], padding = 'SAME')\n",
    "    return activation * c"
   ]
  },
  {
   "cell_type": "code",
   "execution_count": null,
   "metadata": {},
   "outputs": [],
   "source": []
  },
  {
   "cell_type": "code",
   "execution_count": 65,
   "metadata": {},
   "outputs": [],
   "source": [
    "R4 = CNN.predict(tmp)"
   ]
  },
  {
   "cell_type": "code",
   "execution_count": 66,
   "metadata": {},
   "outputs": [
    {
     "data": {
      "text/plain": [
       "(array([[5.5913559e-12, 9.4177117e-11, 6.6056010e-09, 4.3516538e-01,\n",
       "         8.8017068e-12, 5.6481642e-01, 2.2824447e-11, 1.8128334e-05,\n",
       "         2.8297348e-10, 7.6332711e-08]], dtype=float32),\n",
       " 0.99999994)"
      ]
     },
     "execution_count": 66,
     "metadata": {},
     "output_type": "execute_result"
    }
   ],
   "source": [
    "R4, R4.sum()"
   ]
  },
  {
   "cell_type": "code",
   "execution_count": 67,
   "metadata": {
    "scrolled": true
   },
   "outputs": [
    {
     "name": "stdout",
     "output_type": "stream",
     "text": [
      "(1, 7, 7, 20)\n",
      "(980, 10)\n",
      "(1, 980)\n"
     ]
    },
    {
     "data": {
      "text/plain": [
       "<tf.Tensor: shape=(1, 980), dtype=float32, numpy=\n",
       "array([[1.07525912e-10, 0.00000000e+00, 3.51149286e-03, 7.69372843e-03,\n",
       "        8.39273038e-04, 0.00000000e+00, 0.00000000e+00, 5.29915374e-03,\n",
       "        7.84183101e-08, 1.20134978e-03, 0.00000000e+00, 0.00000000e+00,\n",
       "        0.00000000e+00, 6.48230896e-04, 0.00000000e+00, 5.88681549e-04,\n",
       "        1.49673864e-03, 0.00000000e+00, 0.00000000e+00, 2.89482214e-05,\n",
       "        2.14655767e-03, 1.81333883e-06, 0.00000000e+00, 3.46727989e-04,\n",
       "        0.00000000e+00, 0.00000000e+00, 1.46796741e-03, 1.20483618e-03,\n",
       "        1.07118313e-03, 0.00000000e+00, 2.08849693e-09, 0.00000000e+00,\n",
       "        1.72333175e-03, 0.00000000e+00, 9.85857216e-04, 0.00000000e+00,\n",
       "        3.37476406e-04, 0.00000000e+00, 0.00000000e+00, 9.38728206e-09,\n",
       "        5.64378500e-03, 3.97945958e-04, 7.47023558e-04, 1.85225392e-03,\n",
       "        2.45457079e-04, 0.00000000e+00, 4.81044175e-03, 8.85827118e-04,\n",
       "        0.00000000e+00, 6.55645563e-05, 6.50270740e-05, 0.00000000e+00,\n",
       "        0.00000000e+00, 0.00000000e+00, 6.23033755e-03, 0.00000000e+00,\n",
       "        3.98557400e-03, 0.00000000e+00, 1.12431229e-03, 0.00000000e+00,\n",
       "        1.61870344e-11, 2.06208276e-03, 1.29507692e-03, 2.31272937e-03,\n",
       "        1.07744371e-03, 5.97422535e-04, 1.74988667e-03, 7.35028589e-04,\n",
       "        0.00000000e+00, 3.45143233e-03, 2.72045261e-04, 4.06771293e-03,\n",
       "        0.00000000e+00, 0.00000000e+00, 7.15904869e-03, 0.00000000e+00,\n",
       "        6.92903483e-03, 0.00000000e+00, 2.52488535e-03, 1.89731584e-03,\n",
       "        2.13660765e-03, 0.00000000e+00, 1.80986812e-04, 7.08297174e-03,\n",
       "        0.00000000e+00, 9.75368358e-03, 0.00000000e+00, 2.82541127e-03,\n",
       "        3.49589246e-11, 0.00000000e+00, 6.78390646e-16, 1.37206225e-03,\n",
       "        0.00000000e+00, 0.00000000e+00, 1.42702589e-07, 0.00000000e+00,\n",
       "        4.78080324e-07, 0.00000000e+00, 0.00000000e+00, 4.66549257e-03,\n",
       "        1.49985065e-03, 2.45129631e-04, 5.85771486e-05, 2.52447859e-03,\n",
       "        1.17060076e-03, 6.58338564e-03, 1.88450282e-03, 2.21527720e-04,\n",
       "        0.00000000e+00, 0.00000000e+00, 0.00000000e+00, 0.00000000e+00,\n",
       "        4.42860371e-09, 1.18828342e-04, 4.19354625e-03, 0.00000000e+00,\n",
       "        9.59700941e-08, 8.49646458e-04, 0.00000000e+00, 6.23389613e-04,\n",
       "        1.41208933e-04, 2.76389124e-04, 8.67120953e-09, 1.57517847e-03,\n",
       "        1.04921183e-03, 7.90668000e-03, 2.96208498e-08, 1.57117727e-03,\n",
       "        1.73685883e-04, 0.00000000e+00, 2.88041635e-09, 0.00000000e+00,\n",
       "        0.00000000e+00, 0.00000000e+00, 0.00000000e+00, 1.60349754e-03,\n",
       "        4.10776003e-04, 3.08369059e-11, 6.47739871e-05, 0.00000000e+00,\n",
       "        1.03736994e-07, 0.00000000e+00, 2.88345758e-03, 2.63033994e-03,\n",
       "        3.20957770e-05, 0.00000000e+00, 0.00000000e+00, 0.00000000e+00,\n",
       "        0.00000000e+00, 0.00000000e+00, 0.00000000e+00, 5.14027488e-04,\n",
       "        0.00000000e+00, 1.12003523e-04, 0.00000000e+00, 9.39801394e-04,\n",
       "        2.10912735e-03, 0.00000000e+00, 0.00000000e+00, 1.43678801e-03,\n",
       "        5.57990838e-03, 0.00000000e+00, 0.00000000e+00, 4.90061473e-03,\n",
       "        0.00000000e+00, 0.00000000e+00, 0.00000000e+00, 1.38413603e-03,\n",
       "        0.00000000e+00, 0.00000000e+00, 7.16873037e-04, 2.50832271e-03,\n",
       "        0.00000000e+00, 6.57422797e-11, 0.00000000e+00, 3.84495268e-03,\n",
       "        5.90493903e-04, 1.29569962e-04, 0.00000000e+00, 6.30678798e-08,\n",
       "        1.41497115e-02, 0.00000000e+00, 0.00000000e+00, 3.31196003e-04,\n",
       "        0.00000000e+00, 0.00000000e+00, 1.55395513e-13, 2.07716177e-04,\n",
       "        0.00000000e+00, 0.00000000e+00, 3.34976800e-03, 0.00000000e+00,\n",
       "        0.00000000e+00, 1.94221047e-05, 0.00000000e+00, 1.07314307e-07,\n",
       "        7.30509830e-09, 3.31362290e-03, 0.00000000e+00, 1.36045919e-05,\n",
       "        2.02231873e-02, 9.51232505e-04, 0.00000000e+00, 8.63957084e-08,\n",
       "        0.00000000e+00, 2.06033768e-08, 1.92206702e-04, 1.42577430e-03,\n",
       "        0.00000000e+00, 0.00000000e+00, 2.41860072e-03, 1.31807348e-04,\n",
       "        0.00000000e+00, 0.00000000e+00, 0.00000000e+00, 1.12187799e-07,\n",
       "        0.00000000e+00, 1.01509169e-02, 0.00000000e+00, 9.38478566e-04,\n",
       "        4.80610412e-04, 2.99404538e-03, 1.84083707e-03, 4.14469093e-03,\n",
       "        0.00000000e+00, 2.46216252e-04, 0.00000000e+00, 1.97253725e-03,\n",
       "        0.00000000e+00, 0.00000000e+00, 1.35539297e-03, 5.74001228e-04,\n",
       "        0.00000000e+00, 3.62990833e-13, 1.42034372e-14, 1.83507043e-03,\n",
       "        1.68627955e-03, 1.56127149e-03, 0.00000000e+00, 4.45543810e-05,\n",
       "        7.98994714e-13, 0.00000000e+00, 1.75655016e-03, 1.10267252e-02,\n",
       "        0.00000000e+00, 8.33952569e-08, 0.00000000e+00, 3.33968364e-03,\n",
       "        0.00000000e+00, 0.00000000e+00, 0.00000000e+00, 1.68866001e-03,\n",
       "        0.00000000e+00, 0.00000000e+00, 3.01996731e-12, 1.95877039e-08,\n",
       "        1.08076144e-07, 0.00000000e+00, 5.20043366e-04, 0.00000000e+00,\n",
       "        1.77606801e-03, 3.34524724e-04, 2.88874609e-04, 5.68480929e-03,\n",
       "        6.68372028e-04, 0.00000000e+00, 3.79730156e-03, 6.73277753e-11,\n",
       "        0.00000000e+00, 0.00000000e+00, 0.00000000e+00, 0.00000000e+00,\n",
       "        0.00000000e+00, 0.00000000e+00, 2.82973651e-05, 0.00000000e+00,\n",
       "        0.00000000e+00, 0.00000000e+00, 2.79458443e-04, 0.00000000e+00,\n",
       "        3.58308991e-03, 0.00000000e+00, 5.04317600e-03, 5.39045781e-03,\n",
       "        1.47530460e-03, 0.00000000e+00, 0.00000000e+00, 0.00000000e+00,\n",
       "        0.00000000e+00, 0.00000000e+00, 0.00000000e+00, 3.94911692e-03,\n",
       "        0.00000000e+00, 6.71161369e-13, 0.00000000e+00, 1.22776534e-03,\n",
       "        0.00000000e+00, 0.00000000e+00, 1.01685269e-04, 1.53480982e-03,\n",
       "        6.87149750e-08, 0.00000000e+00, 2.34540110e-03, 4.94101224e-03,\n",
       "        1.86168900e-10, 0.00000000e+00, 0.00000000e+00, 0.00000000e+00,\n",
       "        0.00000000e+00, 9.92372879e-05, 2.97279907e-08, 0.00000000e+00,\n",
       "        0.00000000e+00, 6.16065918e-08, 0.00000000e+00, 3.72002658e-04,\n",
       "        3.26800044e-03, 8.18096438e-15, 3.49135778e-04, 4.48781904e-03,\n",
       "        3.19881183e-05, 1.34758564e-04, 0.00000000e+00, 0.00000000e+00,\n",
       "        5.64649909e-08, 0.00000000e+00, 0.00000000e+00, 0.00000000e+00,\n",
       "        0.00000000e+00, 6.91976456e-05, 3.18856956e-03, 0.00000000e+00,\n",
       "        0.00000000e+00, 3.46381022e-08, 0.00000000e+00, 3.46750788e-08,\n",
       "        1.15133952e-02, 0.00000000e+00, 0.00000000e+00, 2.95207164e-13,\n",
       "        3.03343626e-08, 2.96829152e-04, 0.00000000e+00, 7.88986101e-04,\n",
       "        7.50508811e-03, 0.00000000e+00, 0.00000000e+00, 8.25791387e-04,\n",
       "        0.00000000e+00, 2.12075676e-07, 9.67874285e-03, 0.00000000e+00,\n",
       "        0.00000000e+00, 0.00000000e+00, 0.00000000e+00, 0.00000000e+00,\n",
       "        4.44072852e-04, 3.29862395e-03, 2.29447305e-05, 1.60471618e-03,\n",
       "        0.00000000e+00, 2.20888108e-03, 0.00000000e+00, 3.36970529e-03,\n",
       "        1.47524333e-04, 3.21913068e-03, 0.00000000e+00, 9.53741558e-03,\n",
       "        0.00000000e+00, 1.52255476e-12, 1.41229411e-03, 0.00000000e+00,\n",
       "        0.00000000e+00, 0.00000000e+00, 0.00000000e+00, 0.00000000e+00,\n",
       "        0.00000000e+00, 0.00000000e+00, 2.31976830e-03, 1.29237156e-02,\n",
       "        1.96289626e-13, 9.49481037e-03, 1.08329405e-03, 7.65041914e-05,\n",
       "        0.00000000e+00, 0.00000000e+00, 0.00000000e+00, 6.25310419e-03,\n",
       "        7.63645570e-04, 1.85211701e-03, 1.20878698e-12, 0.00000000e+00,\n",
       "        0.00000000e+00, 0.00000000e+00, 3.45822241e-14, 0.00000000e+00,\n",
       "        0.00000000e+00, 0.00000000e+00, 3.99361691e-03, 1.60078437e-03,\n",
       "        1.00635043e-04, 8.64024647e-03, 0.00000000e+00, 0.00000000e+00,\n",
       "        0.00000000e+00, 1.13401841e-03, 0.00000000e+00, 1.75724199e-04,\n",
       "        2.82275527e-12, 1.31962169e-03, 6.46666165e-10, 0.00000000e+00,\n",
       "        0.00000000e+00, 0.00000000e+00, 0.00000000e+00, 0.00000000e+00,\n",
       "        0.00000000e+00, 0.00000000e+00, 1.63314620e-03, 0.00000000e+00,\n",
       "        1.02597912e-08, 0.00000000e+00, 0.00000000e+00, 5.65991504e-03,\n",
       "        1.38187399e-02, 1.85521057e-10, 0.00000000e+00, 0.00000000e+00,\n",
       "        0.00000000e+00, 1.92503503e-04, 3.10687674e-03, 4.70230903e-11,\n",
       "        0.00000000e+00, 0.00000000e+00, 0.00000000e+00, 0.00000000e+00,\n",
       "        0.00000000e+00, 6.56356709e-03, 2.56960816e-03, 1.64344996e-07,\n",
       "        1.46493444e-03, 0.00000000e+00, 0.00000000e+00, 8.72030389e-04,\n",
       "        1.83293466e-07, 8.21800262e-04, 0.00000000e+00, 0.00000000e+00,\n",
       "        0.00000000e+00, 0.00000000e+00, 0.00000000e+00, 0.00000000e+00,\n",
       "        0.00000000e+00, 0.00000000e+00, 0.00000000e+00, 0.00000000e+00,\n",
       "        0.00000000e+00, 5.36231976e-03, 8.71292222e-03, 6.03546295e-03,\n",
       "        0.00000000e+00, 0.00000000e+00, 0.00000000e+00, 3.03522451e-03,\n",
       "        3.34884049e-08, 4.73785738e-04, 0.00000000e+00, 2.66634324e-03,\n",
       "        0.00000000e+00, 0.00000000e+00, 0.00000000e+00, 9.63798811e-05,\n",
       "        1.17592061e-10, 0.00000000e+00, 0.00000000e+00, 0.00000000e+00,\n",
       "        0.00000000e+00, 5.85159694e-04, 7.32684508e-03, 2.28536106e-03,\n",
       "        0.00000000e+00, 0.00000000e+00, 0.00000000e+00, 6.90492615e-03,\n",
       "        0.00000000e+00, 6.17894571e-08, 0.00000000e+00, 9.30013508e-03,\n",
       "        0.00000000e+00, 8.04269686e-04, 0.00000000e+00, 2.21053861e-12,\n",
       "        3.45970242e-04, 0.00000000e+00, 0.00000000e+00, 0.00000000e+00,\n",
       "        0.00000000e+00, 1.07460143e-03, 9.28277709e-03, 1.26451425e-07,\n",
       "        0.00000000e+00, 1.56041416e-10, 0.00000000e+00, 1.72109671e-09,\n",
       "        0.00000000e+00, 4.42928961e-03, 0.00000000e+00, 1.58453972e-07,\n",
       "        0.00000000e+00, 1.13008532e-03, 1.71114456e-10, 5.72142191e-04,\n",
       "        5.64470071e-08, 4.13508294e-03, 0.00000000e+00, 1.85882585e-04,\n",
       "        0.00000000e+00, 0.00000000e+00, 2.81921882e-11, 1.39993150e-03,\n",
       "        0.00000000e+00, 8.14999979e-08, 0.00000000e+00, 2.82062241e-03,\n",
       "        0.00000000e+00, 5.19194733e-03, 0.00000000e+00, 0.00000000e+00,\n",
       "        4.85989829e-14, 4.98037389e-09, 0.00000000e+00, 2.29679584e-03,\n",
       "        5.66429785e-03, 2.12584669e-03, 1.29030098e-12, 6.38843514e-04,\n",
       "        0.00000000e+00, 1.81621441e-03, 5.37462905e-03, 4.49015154e-03,\n",
       "        0.00000000e+00, 0.00000000e+00, 0.00000000e+00, 5.97851935e-10,\n",
       "        0.00000000e+00, 2.32553622e-03, 0.00000000e+00, 0.00000000e+00,\n",
       "        1.51275704e-03, 2.92102224e-04, 0.00000000e+00, 5.00630867e-03,\n",
       "        0.00000000e+00, 5.93114062e-04, 5.54840722e-11, 1.91742252e-03,\n",
       "        2.50577526e-13, 6.00028360e-11, 8.67787509e-10, 2.26841265e-04,\n",
       "        6.88033318e-03, 0.00000000e+00, 0.00000000e+00, 1.03346137e-10,\n",
       "        4.63658507e-04, 0.00000000e+00, 2.33337603e-04, 0.00000000e+00,\n",
       "        0.00000000e+00, 0.00000000e+00, 0.00000000e+00, 0.00000000e+00,\n",
       "        0.00000000e+00, 0.00000000e+00, 0.00000000e+00, 0.00000000e+00,\n",
       "        2.54151504e-03, 0.00000000e+00, 2.39193067e-03, 3.56306299e-03,\n",
       "        2.85803364e-03, 9.78305252e-05, 0.00000000e+00, 1.23450691e-02,\n",
       "        3.10857053e-04, 0.00000000e+00, 4.70825750e-03, 0.00000000e+00,\n",
       "        0.00000000e+00, 1.25948864e-03, 1.08292686e-09, 6.07843220e-04,\n",
       "        0.00000000e+00, 0.00000000e+00, 5.34493476e-04, 0.00000000e+00,\n",
       "        1.39989948e-13, 0.00000000e+00, 1.03519671e-02, 5.49773034e-03,\n",
       "        0.00000000e+00, 0.00000000e+00, 4.59937233e-04, 6.96092087e-04,\n",
       "        0.00000000e+00, 4.65833908e-03, 8.64334591e-03, 0.00000000e+00,\n",
       "        0.00000000e+00, 0.00000000e+00, 5.91113292e-15, 1.78112823e-04,\n",
       "        0.00000000e+00, 4.62325545e-13, 9.90173314e-03, 0.00000000e+00,\n",
       "        9.05350875e-03, 7.36394385e-14, 4.24357563e-11, 1.18751195e-04,\n",
       "        0.00000000e+00, 8.02260358e-04, 0.00000000e+00, 2.55587348e-03,\n",
       "        1.28957373e-03, 5.74728299e-04, 3.16691739e-08, 7.11737992e-03,\n",
       "        0.00000000e+00, 0.00000000e+00, 0.00000000e+00, 0.00000000e+00,\n",
       "        0.00000000e+00, 2.98120384e-03, 1.45813432e-02, 1.98519367e-04,\n",
       "        2.57048476e-03, 2.46378616e-03, 1.41007500e-03, 0.00000000e+00,\n",
       "        0.00000000e+00, 0.00000000e+00, 0.00000000e+00, 3.24452203e-03,\n",
       "        9.83088277e-04, 5.07516495e-04, 2.39090412e-03, 2.34039477e-03,\n",
       "        1.05123792e-03, 0.00000000e+00, 0.00000000e+00, 3.28869442e-03,\n",
       "        2.92920504e-05, 4.87575307e-03, 1.29604702e-10, 5.89018695e-11,\n",
       "        7.16292206e-03, 2.23262250e-04, 3.35257640e-03, 4.22886433e-03,\n",
       "        0.00000000e+00, 0.00000000e+00, 5.53876453e-04, 3.09100662e-10,\n",
       "        3.46345664e-03, 1.23786135e-03, 4.22622548e-10, 5.39086352e-04,\n",
       "        1.44890684e-03, 0.00000000e+00, 0.00000000e+00, 1.24031271e-10,\n",
       "        5.09814010e-04, 0.00000000e+00, 0.00000000e+00, 2.89652986e-03,\n",
       "        1.10054750e-03, 5.13511244e-03, 7.69359665e-03, 1.48038950e-03,\n",
       "        0.00000000e+00, 5.39621047e-04, 8.73885816e-04, 3.34417541e-03,\n",
       "        3.46345681e-04, 0.00000000e+00, 7.57655674e-11, 0.00000000e+00,\n",
       "        0.00000000e+00, 0.00000000e+00, 0.00000000e+00, 0.00000000e+00,\n",
       "        0.00000000e+00, 0.00000000e+00, 8.91508171e-06, 0.00000000e+00,\n",
       "        1.52018329e-03, 2.24136573e-04, 0.00000000e+00, 0.00000000e+00,\n",
       "        1.12869497e-03, 0.00000000e+00, 0.00000000e+00, 5.04260138e-03,\n",
       "        0.00000000e+00, 0.00000000e+00, 0.00000000e+00, 0.00000000e+00,\n",
       "        0.00000000e+00, 3.30201292e-04, 1.61522184e-03, 1.13026431e-07,\n",
       "        0.00000000e+00, 4.75782016e-03, 0.00000000e+00, 5.51060215e-03,\n",
       "        7.97165849e-04, 9.98291536e-04, 1.11404137e-04, 8.18517307e-08,\n",
       "        8.24003015e-03, 0.00000000e+00, 0.00000000e+00, 4.86756815e-03,\n",
       "        0.00000000e+00, 0.00000000e+00, 2.40051377e-04, 0.00000000e+00,\n",
       "        0.00000000e+00, 2.46701273e-03, 1.25837617e-03, 7.11452728e-03,\n",
       "        0.00000000e+00, 4.47099628e-05, 0.00000000e+00, 0.00000000e+00,\n",
       "        0.00000000e+00, 5.35061382e-08, 0.00000000e+00, 8.29675998e-12,\n",
       "        4.57909936e-03, 0.00000000e+00, 0.00000000e+00, 7.14547420e-03,\n",
       "        0.00000000e+00, 6.73569155e-15, 3.60442116e-03, 0.00000000e+00,\n",
       "        0.00000000e+00, 0.00000000e+00, 0.00000000e+00, 0.00000000e+00,\n",
       "        3.26725421e-05, 2.06005643e-03, 0.00000000e+00, 0.00000000e+00,\n",
       "        1.62307941e-03, 1.04265457e-12, 0.00000000e+00, 0.00000000e+00,\n",
       "        0.00000000e+00, 3.15320758e-05, 0.00000000e+00, 6.77892379e-03,\n",
       "        6.07859157e-03, 3.70761732e-08, 5.71940094e-03, 0.00000000e+00,\n",
       "        0.00000000e+00, 0.00000000e+00, 0.00000000e+00, 1.64916681e-04,\n",
       "        0.00000000e+00, 1.93385070e-03, 3.42529762e-04, 0.00000000e+00,\n",
       "        3.19696730e-04, 6.42811647e-03, 1.68499560e-03, 0.00000000e+00,\n",
       "        0.00000000e+00, 0.00000000e+00, 9.15154233e-04, 8.08491558e-03,\n",
       "        2.59148655e-03, 3.29520158e-03, 0.00000000e+00, 1.30201050e-04,\n",
       "        0.00000000e+00, 0.00000000e+00, 0.00000000e+00, 1.83139427e-03,\n",
       "        2.33937302e-04, 0.00000000e+00, 3.70051782e-03, 4.45805315e-04,\n",
       "        1.64713303e-03, 5.35971658e-08, 2.14765854e-13, 6.83599865e-05,\n",
       "        0.00000000e+00, 2.19406582e-09, 0.00000000e+00, 2.26848759e-03,\n",
       "        2.15032860e-03, 0.00000000e+00, 5.12850966e-05, 4.56589925e-14,\n",
       "        3.12271441e-04, 0.00000000e+00, 0.00000000e+00, 0.00000000e+00,\n",
       "        0.00000000e+00, 0.00000000e+00, 1.53367030e-09, 1.57690554e-08,\n",
       "        7.86798832e-04, 0.00000000e+00, 0.00000000e+00, 4.54653676e-10,\n",
       "        9.01827079e-05, 1.93526031e-08, 0.00000000e+00, 0.00000000e+00,\n",
       "        0.00000000e+00, 5.76124934e-04, 4.67844475e-05, 0.00000000e+00,\n",
       "        4.06370617e-08, 0.00000000e+00, 1.91222454e-04, 0.00000000e+00,\n",
       "        0.00000000e+00, 0.00000000e+00, 5.09795584e-09, 0.00000000e+00,\n",
       "        0.00000000e+00, 0.00000000e+00, 0.00000000e+00, 0.00000000e+00,\n",
       "        0.00000000e+00, 2.27440983e-10, 7.79110531e-04, 2.30691541e-04,\n",
       "        1.42504741e-03, 2.50633061e-03, 2.55237566e-04, 0.00000000e+00,\n",
       "        0.00000000e+00, 4.93868138e-04, 0.00000000e+00, 0.00000000e+00,\n",
       "        0.00000000e+00, 3.61868762e-03, 0.00000000e+00, 0.00000000e+00,\n",
       "        1.74332282e-08, 0.00000000e+00, 3.03060311e-04, 1.31233025e-03,\n",
       "        0.00000000e+00, 4.54356708e-03, 1.63052682e-04, 2.10373281e-11,\n",
       "        9.47613502e-04, 7.93713517e-03, 0.00000000e+00, 0.00000000e+00,\n",
       "        0.00000000e+00, 9.66317835e-04, 3.20180581e-04, 0.00000000e+00,\n",
       "        0.00000000e+00, 1.71908888e-03, 0.00000000e+00, 0.00000000e+00,\n",
       "        6.57906756e-04, 1.21289736e-03, 0.00000000e+00, 3.52759849e-10,\n",
       "        0.00000000e+00, 1.59329816e-03, 0.00000000e+00, 1.38562673e-03,\n",
       "        1.85035071e-10, 1.69007725e-03, 0.00000000e+00, 3.60780668e-08,\n",
       "        0.00000000e+00, 5.54377073e-03, 2.17000605e-03, 0.00000000e+00,\n",
       "        0.00000000e+00, 1.21227681e-12, 0.00000000e+00, 0.00000000e+00,\n",
       "        8.17580789e-04, 0.00000000e+00, 6.21556304e-04, 2.09301244e-03,\n",
       "        0.00000000e+00, 3.12752859e-03, 0.00000000e+00, 0.00000000e+00,\n",
       "        3.44771426e-03, 0.00000000e+00, 0.00000000e+00, 5.51997701e-08,\n",
       "        0.00000000e+00, 9.62099060e-03, 2.94169527e-04, 0.00000000e+00,\n",
       "        0.00000000e+00, 0.00000000e+00, 0.00000000e+00, 0.00000000e+00,\n",
       "        0.00000000e+00, 2.64714414e-04, 3.85529245e-03, 8.80720268e-04,\n",
       "        0.00000000e+00, 8.01378046e-04, 6.21608269e-05, 0.00000000e+00,\n",
       "        8.63107271e-04, 1.64016178e-08, 0.00000000e+00, 0.00000000e+00,\n",
       "        1.03298925e-09, 3.31398827e-04, 0.00000000e+00, 0.00000000e+00,\n",
       "        1.54826776e-10, 0.00000000e+00, 7.27472340e-08, 0.00000000e+00,\n",
       "        0.00000000e+00, 1.45822251e-03, 2.29254020e-08, 1.52635966e-08,\n",
       "        0.00000000e+00, 3.72784387e-04, 0.00000000e+00, 0.00000000e+00,\n",
       "        0.00000000e+00, 1.19923882e-03, 2.80113064e-12, 0.00000000e+00,\n",
       "        2.79666880e-11, 4.00569430e-03, 0.00000000e+00, 0.00000000e+00,\n",
       "        9.48081783e-04, 0.00000000e+00, 3.86764924e-03, 1.08906024e-04,\n",
       "        0.00000000e+00, 5.63268724e-04, 1.39988400e-03, 0.00000000e+00,\n",
       "        0.00000000e+00, 0.00000000e+00, 0.00000000e+00, 9.34153213e-04,\n",
       "        0.00000000e+00, 7.78517351e-05, 0.00000000e+00, 0.00000000e+00,\n",
       "        3.03235907e-08, 2.15660571e-03, 0.00000000e+00, 2.99221501e-05,\n",
       "        0.00000000e+00, 2.52851795e-10, 2.01821676e-03, 2.94269066e-05,\n",
       "        0.00000000e+00, 6.93654438e-05, 4.52546944e-10, 0.00000000e+00]],\n",
       "      dtype=float32)>"
      ]
     },
     "execution_count": 67,
     "metadata": {},
     "output_type": "execute_result"
    }
   ],
   "source": [
    "a = activations[-1]\n",
    "w = weights[-1]\n",
    "b = biases[-1]\n",
    "\n",
    "print(a.shape)\n",
    "print(w.shape)\n",
    "\n",
    "R3 = backprop_dense(tf.reshape(a, (1,980)), w, b, R4)\n",
    "\n",
    "print(R3.shape)\n",
    "\n",
    "R3"
   ]
  },
  {
   "cell_type": "code",
   "execution_count": 68,
   "metadata": {},
   "outputs": [
    {
     "name": "stdout",
     "output_type": "stream",
     "text": [
      "(5, 5, 5, 20)\n",
      "(20,)\n",
      "(1, 7, 7, 5)\n",
      "(1, 14, 14, 5)\n",
      "(1, 7, 7, 5)\n",
      "(1, 14, 14, 5)\n"
     ]
    }
   ],
   "source": [
    "w = weights[-2]\n",
    "b = biases[-2]\n",
    "p = activations[-2]\n",
    "a = activations[-3]\n",
    "\n",
    "print(w.shape)\n",
    "print(b.shape)\n",
    "print(p.shape)\n",
    "print(a.shape)\n",
    "\n",
    "R_conv = backprop_conv(p,w,b,tf.reshape(R3, (1,7,7,20)))\n",
    "print(R_conv.shape)\n",
    "\n",
    "R2 = backprop_pooling(a, R_conv)\n",
    "print(R2.shape)\n",
    "\n",
    "#plt.imshow(tf.math.reduce_mean(tf.reshape(R2, [*R2.shape[1:]] ), axis = 2), interpolation = \"nearest\", cmap = \"RdBu\")"
   ]
  },
  {
   "cell_type": "code",
   "execution_count": 69,
   "metadata": {},
   "outputs": [
    {
     "name": "stdout",
     "output_type": "stream",
     "text": [
      "(5, 5, 5, 5)\n",
      "(5,)\n",
      "(1, 14, 14, 5)\n",
      "(1, 28, 28, 5)\n",
      "(1, 14, 14, 5)\n",
      "(1, 28, 28, 5)\n",
      "0.17600967\n"
     ]
    }
   ],
   "source": [
    "w = weights[-3]\n",
    "b = biases[-3]\n",
    "p = activations[-4]\n",
    "a = activations[-5]\n",
    "\n",
    "\n",
    "print(w.shape)\n",
    "print(b.shape)\n",
    "print(p.shape)\n",
    "print(a.shape)\n",
    "\n",
    "R_conv = backprop_conv(p, w, b, R2)\n",
    "print(R_conv.shape)\n",
    "\n",
    "R1 = backprop_pooling(a, R_conv)\n",
    "print(R1.shape)\n",
    "print(np.sum(R1))"
   ]
  },
  {
   "cell_type": "code",
   "execution_count": 70,
   "metadata": {},
   "outputs": [],
   "source": [
    "w = weights[0]\n",
    "b = biases[0]\n",
    "#img_activations = getActivations\n",
    "R0 = backprop_conv(tmp,w,b,R1)"
   ]
  },
  {
   "cell_type": "code",
   "execution_count": 75,
   "metadata": {},
   "outputs": [
    {
     "data": {
      "text/plain": [
       "<tf.Tensor: shape=(650,), dtype=float32, numpy=\n",
       "array([nan, nan, nan, nan, nan, nan, nan, nan, nan, nan, nan, nan, nan,\n",
       "       nan, nan, nan, nan, nan, nan, nan, nan, nan, nan, nan, nan, nan,\n",
       "       nan, nan, nan, nan, nan, nan, nan, nan, nan, nan, nan, nan, nan,\n",
       "       nan, nan, nan, nan, nan, nan, nan, nan, nan, nan, nan, nan, nan,\n",
       "       nan, nan, nan, nan, nan, nan, nan, nan, nan, nan, nan, nan, nan,\n",
       "       nan, nan, nan, nan, nan, nan, nan, nan, nan, nan, nan, nan, nan,\n",
       "       nan, nan, nan, nan, nan, nan, nan, nan, nan, nan, nan, nan, nan,\n",
       "       nan, nan, nan, nan, nan, nan, nan, nan, nan, nan, nan, nan, nan,\n",
       "       nan, nan, nan, nan, nan, nan, nan, nan, nan, nan, nan, nan, nan,\n",
       "       nan, nan, nan, nan, nan, nan, nan, nan, nan, nan, nan, nan, nan,\n",
       "       nan, nan, nan, nan, nan, nan, nan, nan, nan, nan, nan, nan, nan,\n",
       "       nan, nan, nan, nan, nan, nan, nan, nan, nan, nan, nan, nan, nan,\n",
       "       nan, nan, nan, nan, nan, nan, nan, nan, nan, nan, nan, nan, nan,\n",
       "       nan, nan, nan, nan, nan, nan, nan, nan, nan, nan, nan, nan, nan,\n",
       "       nan, nan, nan, nan, nan, nan, nan, nan, nan, nan, nan, nan, nan,\n",
       "       nan, nan, nan, nan, nan, nan, nan, nan, nan, nan, nan, nan, nan,\n",
       "       nan, nan, nan, nan, nan, nan, nan, nan, nan, nan, nan, nan, nan,\n",
       "       nan, nan, nan, nan, nan, nan, nan, nan, nan, nan, nan, nan, nan,\n",
       "       nan, nan, nan, nan, nan, nan, nan, nan, nan, nan, nan, nan, nan,\n",
       "       nan, nan, nan, nan, nan, nan, nan, nan, nan, nan, nan, nan, nan,\n",
       "       nan, nan, nan, nan, nan, nan, nan, nan, nan, nan, nan, nan, nan,\n",
       "       nan, nan, nan, nan, nan, nan, nan, nan, nan, nan, nan, nan, nan,\n",
       "       nan, nan, nan, nan, nan, nan, nan, nan, nan, nan, nan, nan, nan,\n",
       "       nan, nan, nan, nan, nan, nan, nan, nan, nan, nan, nan, nan, nan,\n",
       "       nan, nan, nan, nan, nan, nan, nan, nan, nan, nan, nan, nan, nan,\n",
       "       nan, nan, nan, nan, nan, nan, nan, nan, nan, nan, nan, nan, nan,\n",
       "       nan, nan, nan, nan, nan, nan, nan, nan, nan, nan, nan, nan, nan,\n",
       "       nan, nan, nan, nan, nan, nan, nan, nan, nan, nan, nan, nan, nan,\n",
       "       nan, nan, nan, nan, nan, nan, nan, nan, nan, nan, nan, nan, nan,\n",
       "       nan, nan, nan, nan, nan, nan, nan, nan, nan, nan, nan, nan, nan,\n",
       "       nan, nan, nan, nan, nan, nan, nan, nan, nan, nan, nan, nan, nan,\n",
       "       nan, nan, nan, nan, nan, nan, nan, nan, nan, nan, nan, nan, nan,\n",
       "       nan, nan, nan, nan, nan, nan, nan, nan, nan, nan, nan, nan, nan,\n",
       "       nan, nan, nan, nan, nan, nan, nan, nan, nan, nan, nan, nan, nan,\n",
       "       nan, nan, nan, nan, nan, nan, nan, nan, nan, nan, nan, nan, nan,\n",
       "       nan, nan, nan, nan, nan, nan, nan, nan, nan, nan, nan, nan, nan,\n",
       "       nan, nan, nan, nan, nan, nan, nan, nan, nan, nan, nan, nan, nan,\n",
       "       nan, nan, nan, nan, nan, nan, nan, nan, nan, nan, nan, nan, nan,\n",
       "       nan, nan, nan, nan, nan, nan, nan, nan, nan, nan, nan, nan, nan,\n",
       "       nan, nan, nan, nan, nan, nan, nan, nan, nan, nan, nan, nan, nan,\n",
       "       nan, nan, nan, nan, nan, nan, nan, nan, nan, nan, nan, nan, nan,\n",
       "       nan, nan, nan, nan, nan, nan, nan, nan, nan, nan, nan, nan, nan,\n",
       "       nan, nan, nan, nan, nan, nan, nan, nan, nan, nan, nan, nan, nan,\n",
       "       nan, nan, nan, nan, nan, nan, nan, nan, nan, nan, nan, nan, nan,\n",
       "       nan, nan, nan, nan, nan, nan, nan, nan, nan, nan, nan, nan, nan,\n",
       "       nan, nan, nan, nan, nan, nan, nan, nan, nan, nan, nan, nan, nan,\n",
       "       nan, nan, nan, nan, nan, nan, nan, nan, nan, nan, nan, nan, nan,\n",
       "       nan, nan, nan, nan, nan, nan, nan, nan, nan, nan, nan, nan, nan,\n",
       "       nan, nan, nan, nan, nan, nan, nan, nan, nan, nan, nan, nan, nan,\n",
       "       nan, nan, nan, nan, nan, nan, nan, nan, nan, nan, nan, nan, nan],\n",
       "      dtype=float32)>"
      ]
     },
     "execution_count": 75,
     "metadata": {},
     "output_type": "execute_result"
    }
   ],
   "source": [
    "final_tmp = copy.deepcopy(R0)\n",
    "final_tmp[(final_tmp!=final_tmp)] "
   ]
  },
  {
   "cell_type": "code",
   "execution_count": 40,
   "metadata": {},
   "outputs": [
    {
     "data": {
      "text/plain": [
       "4"
      ]
     },
     "execution_count": 40,
     "metadata": {},
     "output_type": "execute_result"
    }
   ],
   "source": [
    "final_tmp[(final_tmp!=final_tmp)]"
   ]
  },
  {
   "cell_type": "code",
   "execution_count": 81,
   "metadata": {},
   "outputs": [
    {
     "data": {
      "text/plain": [
       "<matplotlib.image.AxesImage at 0x7f228c20c950>"
      ]
     },
     "execution_count": 81,
     "metadata": {},
     "output_type": "execute_result"
    },
    {
     "data": {
      "image/png": "[encoded data removed]",
      "text/plain": [
       "<Figure size 432x288 with 1 Axes>"
      ]
     },
     "metadata": {
      "needs_background": "light"
     },
     "output_type": "display_data"
    }
   ],
   "source": [
    "plt.imshow(np.maximum(0., np.nan_to_num(final_tmp)).reshape(28,28),cmap = plt.cm.jet)"
   ]
  },
  {
   "cell_type": "code",
   "execution_count": null,
   "metadata": {},
   "outputs": [],
   "source": []
  }
 ],
 "metadata": {
  "kernelspec": {
   "display_name": ".venv",
   "language": "python",
   "name": ".venv"
  },
  "language_info": {
   "codemirror_mode": {
    "name": "ipython",
    "version": 3
   },
   "file_extension": ".py",
   "mimetype": "text/x-python",
   "name": "python",
   "nbconvert_exporter": "python",
   "pygments_lexer": "ipython3",
   "version": "3.7.4"
  }
 },
 "nbformat": 4,
 "nbformat_minor": 2
}
