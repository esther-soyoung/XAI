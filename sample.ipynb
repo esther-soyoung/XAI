{
 "cells": [
  {
   "cell_type": "code",
   "execution_count": null,
   "metadata": {},
   "outputs": [],
   "source": [
    "import sys\n",
    "sys.path.append('../..')\n",
    "import warnings\n",
    "warnings.filterwarnings(\"ignore\")\n",
    "\n",
    "import ipywidgets as widgets\n",
    "from ipywidgets import interact_manual\n",
    "\n",
    "import arrow\n",
    "from time import strftime, gmtime, localtime\n",
    "from datetime import datetime, timedelta\n",
    "import numpy as np\n",
    "import pandas as pd"
   ]
  },
  {
   "cell_type": "code",
   "execution_count": null,
   "metadata": {},
   "outputs": [],
   "source": [
    "@interact_manual\n",
    "def sample(Date = strftime('%Y-%m-%d', gmtime()), \\\n",
    "                Service_id = widgets.IntText(value=6076, \\\n",
    "                                description='Service_id', \\\n",
    "                                disabled=False), \\\n",
    "               Channel = msn_channel):\n",
    "    \n",
    "    # write your code here\n",
    "    \n",
    "    # visualize\n",
    "    %matplotlib inline\n",
    "    sns.set_style('darkgrid')\n",
    "    \n",
    "    fig, ax = plt.subplots(figsize=(20, 10))\n",
    "    fig.suptitle(f'sample by date: {Date}', fontsize=20)\n",
    "    plt.rcParams.update({'font.size': 20, \"lines.linewidth\":5})\n",
    "    plt.legend(fontsize='x-large')\n",
    "\n",
    "    sns.scatterplot(data=data, x=\"utc_time\", y=\"sample_y\", hue=\"sample\", s=100)\n",
    "    plt.show()"
   ]
  }
 ],
 "metadata": {
  "kernelspec": {
   "display_name": "Python 3",
   "language": "python",
   "name": "python3"
  },
  "language_info": {
   "codemirror_mode": {
    "name": "ipython",
    "version": 3
   },
   "file_extension": ".py",
   "mimetype": "text/x-python",
   "name": "python",
   "nbconvert_exporter": "python",
   "pygments_lexer": "ipython3",
   "version": "3.6.4"
  }
 },
 "nbformat": 4,
 "nbformat_minor": 4
}
