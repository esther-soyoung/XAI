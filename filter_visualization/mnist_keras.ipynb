{
 "cells": [
  {
   "cell_type": "markdown",
   "metadata": {
    "colab_type": "text",
    "id": "jXZgQvYv9zur"
   },
   "source": [
    "# Model Training"
   ]
  },
  {
   "cell_type": "code",
   "execution_count": 1,
   "metadata": {
    "colab": {},
    "colab_type": "code",
    "executionInfo": {
     "elapsed": 850,
     "status": "ok",
     "timestamp": 1593247266652,
     "user": {
      "displayName": "강소영",
      "photoUrl": "",
      "userId": "00381892188238952708"
     },
     "user_tz": -540
    },
    "id": "C49S_ZuVzUFL"
   },
   "outputs": [],
   "source": [
    "import tensorflow as tf\n",
    "\n",
    "import keras\n",
    "from keras.datasets import mnist\n",
    "from keras.models import Sequential\n",
    "from keras.layers import Dense, Dropout, Flatten\n",
    "from keras.layers import Conv2D, MaxPooling2D\n",
    "from keras import backend as K"
   ]
  },
  {
   "cell_type": "code",
   "execution_count": 2,
   "metadata": {
    "colab": {},
    "colab_type": "code",
    "executionInfo": {
     "elapsed": 1912,
     "status": "ok",
     "timestamp": 1593247267719,
     "user": {
      "displayName": "강소영",
      "photoUrl": "",
      "userId": "00381892188238952708"
     },
     "user_tz": -540
    },
    "id": "w5baw-g11VZU"
   },
   "outputs": [],
   "source": [
    "(x_train, y_train), (x_test, y_test) = mnist.load_data()"
   ]
  },
  {
   "cell_type": "code",
   "execution_count": 3,
   "metadata": {
    "colab": {},
    "colab_type": "code",
    "executionInfo": {
     "elapsed": 1875,
     "status": "ok",
     "timestamp": 1593247267722,
     "user": {
      "displayName": "강소영",
      "photoUrl": "",
      "userId": "00381892188238952708"
     },
     "user_tz": -540
    },
    "id": "DZ5F6Gw1zqPV"
   },
   "outputs": [],
   "source": [
    "batchSize = 50\n",
    "numClass = 10\n",
    "epochs = 12\n",
    "\n",
    "img_rows, img_cols = 28, 28"
   ]
  },
  {
   "cell_type": "code",
   "execution_count": 4,
   "metadata": {
    "colab": {},
    "colab_type": "code",
    "executionInfo": {
     "elapsed": 1871,
     "status": "ok",
     "timestamp": 1593247267723,
     "user": {
      "displayName": "강소영",
      "photoUrl": "",
      "userId": "00381892188238952708"
     },
     "user_tz": -540
    },
    "id": "qkFyWXv_8B7b"
   },
   "outputs": [],
   "source": [
    "if K.image_data_format() == 'channels_first':\n",
    "    x_train = x_train.reshape(x_train.shape[0], 1, img_rows, img_cols)\n",
    "    x_test = x_test.reshape(x_test.shape[0], 1, img_rows, img_cols)\n",
    "    input_shape = (1, img_rows, img_cols)\n",
    "else:\n",
    "    x_train = x_train.reshape(x_train.shape[0], img_rows, img_cols, 1)\n",
    "    x_test = x_test.reshape(x_test.shape[0], img_rows, img_cols, 1)\n",
    "    input_shape = (img_rows, img_cols, 1)"
   ]
  },
  {
   "cell_type": "code",
   "execution_count": 5,
   "metadata": {
    "colab": {},
    "colab_type": "code",
    "executionInfo": {
     "elapsed": 1867,
     "status": "ok",
     "timestamp": 1593247267723,
     "user": {
      "displayName": "강소영",
      "photoUrl": "",
      "userId": "00381892188238952708"
     },
     "user_tz": -540
    },
    "id": "UmzchqDe9BDL"
   },
   "outputs": [],
   "source": [
    "x_train = x_train.astype('float32')\n",
    "x_test = x_test.astype('float32')\n",
    "\n",
    "x_train /= 255\n",
    "x_test /= 255"
   ]
  },
  {
   "cell_type": "code",
   "execution_count": 6,
   "metadata": {
    "colab": {},
    "colab_type": "code",
    "executionInfo": {
     "elapsed": 1864,
     "status": "ok",
     "timestamp": 1593247267724,
     "user": {
      "displayName": "강소영",
      "photoUrl": "",
      "userId": "00381892188238952708"
     },
     "user_tz": -540
    },
    "id": "EGVPRNc493e2"
   },
   "outputs": [],
   "source": [
    "y_train = keras.utils.to_categorical(y_train, numClass)\n",
    "y_test = keras.utils.to_categorical(y_test, numClass)"
   ]
  },
  {
   "cell_type": "code",
   "execution_count": 7,
   "metadata": {
    "colab": {},
    "colab_type": "code",
    "executionInfo": {
     "elapsed": 1859,
     "status": "ok",
     "timestamp": 1593247267724,
     "user": {
      "displayName": "강소영",
      "photoUrl": "",
      "userId": "00381892188238952708"
     },
     "user_tz": -540
    },
    "id": "HUCzZbGA99b4"
   },
   "outputs": [],
   "source": [
    "model = Sequential()\n",
    "model.add(Conv2D(5, kernel_size=(5,5), \\\n",
    "                 activation='relu', input_shape=input_shape, \\\n",
    "                 padding='same', name='layer0'))\n",
    "model.add(MaxPooling2D(pool_size=(2,2)))\n",
    "model.add(Conv2D(5, (5,5), activation='relu', padding='same', name='layer1'))\n",
    "model.add(MaxPooling2D(pool_size=(2,2)))\n",
    "model.add(Conv2D(20, (5,5), activation='relu', padding='same', name='layer2'))\n",
    "model.add(Dropout(0.5))\n",
    "model.add(Flatten())\n",
    "model.add(Dense(128, activation='relu'))\n",
    "model.add(Dropout(0.5))\n",
    "model.add(Dense(numClass, activation='softmax'))"
   ]
  },
  {
   "cell_type": "code",
   "execution_count": 8,
   "metadata": {
    "colab": {},
    "colab_type": "code",
    "executionInfo": {
     "elapsed": 1855,
     "status": "ok",
     "timestamp": 1593247267724,
     "user": {
      "displayName": "강소영",
      "photoUrl": "",
      "userId": "00381892188238952708"
     },
     "user_tz": -540
    },
    "id": "BynmShkB-yVG"
   },
   "outputs": [],
   "source": [
    "model.compile(loss=keras.losses.categorical_crossentropy, \\\n",
    "              optimizer=keras.optimizers.Adadelta(), \\\n",
    "              metrics=['accuracy'])"
   ]
  },
  {
   "cell_type": "code",
   "execution_count": 9,
   "metadata": {
    "colab": {
     "base_uri": "https://localhost:8080/",
     "height": 442
    },
    "colab_type": "code",
    "executionInfo": {
     "elapsed": 121208,
     "status": "ok",
     "timestamp": 1593247387085,
     "user": {
      "displayName": "강소영",
      "photoUrl": "",
      "userId": "00381892188238952708"
     },
     "user_tz": -540
    },
    "id": "qk12Ks3Z-72B",
    "outputId": "b0f16da5-bbcb-4fa4-9142-f871daea7b98"
   },
   "outputs": [
    {
     "name": "stdout",
     "output_type": "stream",
     "text": [
      "Epoch 1/12\n",
      "1200/1200 [==============================] - 21s 18ms/step - loss: 2.3175 - accuracy: 0.1047 - val_loss: 2.3001 - val_accuracy: 0.1532\n",
      "Epoch 2/12\n",
      "1200/1200 [==============================] - 20s 17ms/step - loss: 2.3070 - accuracy: 0.1163 - val_loss: 2.2915 - val_accuracy: 0.2404\n",
      "Epoch 3/12\n",
      "1200/1200 [==============================] - 20s 17ms/step - loss: 2.2989 - accuracy: 0.1266 - val_loss: 2.2838 - val_accuracy: 0.2700\n",
      "Epoch 4/12\n",
      "1200/1200 [==============================] - 20s 17ms/step - loss: 2.2913 - accuracy: 0.1408 - val_loss: 2.2759 - val_accuracy: 0.2864\n",
      "Epoch 5/12\n",
      "1200/1200 [==============================] - 21s 18ms/step - loss: 2.2841 - accuracy: 0.1564 - val_loss: 2.2671 - val_accuracy: 0.3045\n",
      "Epoch 6/12\n",
      "1200/1200 [==============================] - 20s 17ms/step - loss: 2.2755 - accuracy: 0.1713 - val_loss: 2.2570 - val_accuracy: 0.3304\n",
      "Epoch 7/12\n",
      "1200/1200 [==============================] - 22s 18ms/step - loss: 2.2668 - accuracy: 0.1860 - val_loss: 2.2452 - val_accuracy: 0.3622\n",
      "Epoch 8/12\n",
      "1200/1200 [==============================] - 21s 18ms/step - loss: 2.2564 - accuracy: 0.2019 - val_loss: 2.2311 - val_accuracy: 0.3958\n",
      "Epoch 9/12\n",
      "1200/1200 [==============================] - 20s 17ms/step - loss: 2.2453 - accuracy: 0.2199 - val_loss: 2.2148 - val_accuracy: 0.4415\n",
      "Epoch 10/12\n",
      "1200/1200 [==============================] - 21s 18ms/step - loss: 2.2308 - accuracy: 0.2359 - val_loss: 2.1953 - val_accuracy: 0.4778\n",
      "Epoch 11/12\n",
      "1200/1200 [==============================] - 22s 18ms/step - loss: 2.2159 - accuracy: 0.2511 - val_loss: 2.1727 - val_accuracy: 0.5030\n",
      "Epoch 12/12\n",
      "1200/1200 [==============================] - 22s 19ms/step - loss: 2.1980 - accuracy: 0.2655 - val_loss: 2.1465 - val_accuracy: 0.5210\n"
     ]
    }
   ],
   "source": [
    "model.fit(x_train, y_train, batch_size=batchSize, epochs=epochs, \\\n",
    "          verbose=1, validation_data=(x_test, y_test))\n",
    "score = model.evaluate(x_test, y_test, verbose=0)"
   ]
  },
  {
   "cell_type": "code",
   "execution_count": 10,
   "metadata": {
    "colab": {
     "base_uri": "https://localhost:8080/",
     "height": 51
    },
    "colab_type": "code",
    "executionInfo": {
     "elapsed": 121191,
     "status": "ok",
     "timestamp": 1593247387086,
     "user": {
      "displayName": "강소영",
      "photoUrl": "",
      "userId": "00381892188238952708"
     },
     "user_tz": -540
    },
    "id": "aKgbPfPw5w_g",
    "outputId": "4a28141f-c302-46aa-a125-09cd0d508cd1"
   },
   "outputs": [
    {
     "name": "stdout",
     "output_type": "stream",
     "text": [
      "Test loss:  2.1465022563934326\n",
      "Test accuracy:  0.5210000276565552\n"
     ]
    }
   ],
   "source": [
    "print('Test loss: ', score[0])\n",
    "print('Test accuracy: ', score[1])"
   ]
  },
  {
   "cell_type": "code",
   "execution_count": 11,
   "metadata": {
    "colab": {
     "base_uri": "https://localhost:8080/",
     "height": 493
    },
    "colab_type": "code",
    "executionInfo": {
     "elapsed": 121174,
     "status": "ok",
     "timestamp": 1593247387087,
     "user": {
      "displayName": "강소영",
      "photoUrl": "",
      "userId": "00381892188238952708"
     },
     "user_tz": -540
    },
    "id": "WiGLwQUEuGed",
    "outputId": "3cfe4234-2711-4438-afa4-06623dc3c53b"
   },
   "outputs": [
    {
     "name": "stdout",
     "output_type": "stream",
     "text": [
      "Model: \"sequential\"\n",
      "_________________________________________________________________\n",
      "Layer (type)                 Output Shape              Param #   \n",
      "=================================================================\n",
      "layer0 (Conv2D)              (None, 28, 28, 5)         130       \n",
      "_________________________________________________________________\n",
      "max_pooling2d (MaxPooling2D) (None, 14, 14, 5)         0         \n",
      "_________________________________________________________________\n",
      "layer1 (Conv2D)              (None, 14, 14, 5)         630       \n",
      "_________________________________________________________________\n",
      "max_pooling2d_1 (MaxPooling2 (None, 7, 7, 5)           0         \n",
      "_________________________________________________________________\n",
      "layer2 (Conv2D)              (None, 7, 7, 20)          2520      \n",
      "_________________________________________________________________\n",
      "dropout (Dropout)            (None, 7, 7, 20)          0         \n",
      "_________________________________________________________________\n",
      "flatten (Flatten)            (None, 980)               0         \n",
      "_________________________________________________________________\n",
      "dense (Dense)                (None, 128)               125568    \n",
      "_________________________________________________________________\n",
      "dropout_1 (Dropout)          (None, 128)               0         \n",
      "_________________________________________________________________\n",
      "dense_1 (Dense)              (None, 10)                1290      \n",
      "=================================================================\n",
      "Total params: 130,138\n",
      "Trainable params: 130,138\n",
      "Non-trainable params: 0\n",
      "_________________________________________________________________\n"
     ]
    }
   ],
   "source": [
    "model.summary()"
   ]
  },
  {
   "cell_type": "code",
   "execution_count": 41,
   "metadata": {},
   "outputs": [
    {
     "name": "stderr",
     "output_type": "stream",
     "text": [
      "W0628 14:36:06.439682 140734809017792 deprecation.py:506] From /Library/Frameworks/Python.framework/Versions/3.6/lib/python3.6/site-packages/tensorflow/python/ops/resource_variable_ops.py:1817: calling BaseResourceVariable.__init__ (from tensorflow.python.ops.resource_variable_ops) with constraint is deprecated and will be removed in a future version.\n",
      "Instructions for updating:\n",
      "If using Keras pass *_constraint arguments to layers.\n"
     ]
    }
   ],
   "source": [
    "model.save('keras_model')"
   ]
  },
  {
   "cell_type": "markdown",
   "metadata": {
    "colab_type": "text",
    "id": "akGOlWz2_g2s"
   },
   "source": [
    "# Filter Visualization"
   ]
  },
  {
   "cell_type": "code",
   "execution_count": 12,
   "metadata": {
    "colab": {},
    "colab_type": "code",
    "executionInfo": {
     "elapsed": 121160,
     "status": "ok",
     "timestamp": 1593247387087,
     "user": {
      "displayName": "강소영",
      "photoUrl": "",
      "userId": "00381892188238952708"
     },
     "user_tz": -540
    },
    "id": "cXMhdkbpAd57"
   },
   "outputs": [],
   "source": [
    "import warnings\n",
    "warnings.filterwarnings(\"ignore\")\n",
    "\n",
    "import numpy as np\n",
    "import matplotlib.pyplot as plt\n",
    "%matplotlib inline"
   ]
  },
  {
   "cell_type": "code",
   "execution_count": 13,
   "metadata": {
    "colab": {},
    "colab_type": "code",
    "executionInfo": {
     "elapsed": 121157,
     "status": "ok",
     "timestamp": 1593247387088,
     "user": {
      "displayName": "강소영",
      "photoUrl": "",
      "userId": "00381892188238952708"
     },
     "user_tz": -540
    },
    "id": "39wOtzVsfIlH"
   },
   "outputs": [],
   "source": [
    "def predict(idx, verbose=False):\n",
    "    img = x_test[idx]\n",
    "    label = y_test[idx]\n",
    "\n",
    "    predict = model.predict_proba(np.expand_dims(img, axis=0))\n",
    "    if verbose:\n",
    "        print(f'Index: {idx}')\n",
    "        cnt = 0\n",
    "        for i in predict[0]:\n",
    "            print('[{}] {:.2%}'.format(cnt, i))\n",
    "            cnt += 1\n",
    "        print('Predicted: ', predict[0].argmax())\n",
    "        print('Label: ', label.argmax())\n",
    "        plt.imshow(np.reshape(img, [28, 28]),interpolation='nearest', cmap='gray')\n",
    "    return (predict[0].argmax(), label.argmax())"
   ]
  },
  {
   "cell_type": "code",
   "execution_count": 14,
   "metadata": {
    "colab": {},
    "colab_type": "code",
    "executionInfo": {
     "elapsed": 121152,
     "status": "ok",
     "timestamp": 1593247387088,
     "user": {
      "displayName": "강소영",
      "photoUrl": "",
      "userId": "00381892188238952708"
     },
     "user_tz": -540
    },
    "id": "MrraMDMYvJSq"
   },
   "outputs": [],
   "source": [
    "feature_extractor = keras.Model(inputs=model.inputs, \\\n",
    "                                outputs=[layer.output for layer in model.layers])\n",
    "\n",
    "def get_hidden_layers(idx, _benchmark_=False):\n",
    "    if _benchmark_:\n",
    "        image = tf.convert_to_tensor(np.expand_dims(benchmark[idx], axis=0))\n",
    "    else:\n",
    "        image = tf.convert_to_tensor(np.expand_dims(x_test[idx], axis=0))\n",
    "    features = feature_extractor(image)\n",
    "    return features[0], features[2], features[4]"
   ]
  },
  {
   "cell_type": "code",
   "execution_count": 25,
   "metadata": {
    "colab": {},
    "colab_type": "code",
    "executionInfo": {
     "elapsed": 121148,
     "status": "ok",
     "timestamp": 1593247387089,
     "user": {
      "displayName": "강소영",
      "photoUrl": "",
      "userId": "00381892188238952708"
     },
     "user_tz": -540
    },
    "id": "uYbSZ8bXRWOs"
   },
   "outputs": [],
   "source": [
    "import math\n",
    "\n",
    "def plotNNFilter(feature):\n",
    "    feature = K.eval(feature)\n",
    "    filters = feature.shape[3]  # number of filters\n",
    "    #plt.figure(1, figsize=(20,20))\n",
    "    n_columns = 5\n",
    "    n_rows = math.ceil(filters / n_columns) + 1\n",
    "\n",
    "    for i in range(filters):\n",
    "        plt.subplot(n_rows, n_columns, i+1)\n",
    "        plt.title('Filter ' + str(i))\n",
    "        plt.imshow(feature[0,:,:,i], interpolation='nearest', cmap='gray')"
   ]
  },
  {
   "cell_type": "code",
   "execution_count": 17,
   "metadata": {
    "colab_type": "text",
    "id": "OF7WgCS0TWY2"
   },
   "outputs": [],
   "source": [
    "### Create benchmarks\n",
    "# Take average of all the train images for each label."
   ]
  },
  {
   "cell_type": "code",
   "execution_count": 16,
   "metadata": {
    "colab": {},
    "colab_type": "code",
    "executionInfo": {
     "elapsed": 121144,
     "status": "ok",
     "timestamp": 1593247387089,
     "user": {
      "displayName": "강소영",
      "photoUrl": "",
      "userId": "00381892188238952708"
     },
     "user_tz": -540
    },
    "id": "60VGLz96B9QA"
   },
   "outputs": [],
   "source": [
    "from collections import defaultdict\n",
    "\n",
    "label_class = defaultdict(list)\n",
    "for i in range(y_train.shape[0]):\n",
    "    label_class[y_train[i].argmax()].append(i)"
   ]
  },
  {
   "cell_type": "code",
   "execution_count": 17,
   "metadata": {
    "colab": {},
    "colab_type": "code",
    "executionInfo": {
     "elapsed": 121121,
     "status": "ok",
     "timestamp": 1593247387090,
     "user": {
      "displayName": "강소영",
      "photoUrl": "",
      "userId": "00381892188238952708"
     },
     "user_tz": -540
    },
    "id": "NtSepKoNXpcH"
   },
   "outputs": [],
   "source": [
    "# list of x_train data(28, 28, 1) for each label\n",
    "lst = []\n",
    "for j in range(10):\n",
    "    lst.append([x_train[i] for i in label_class[j]])"
   ]
  },
  {
   "cell_type": "code",
   "execution_count": 18,
   "metadata": {
    "colab": {},
    "colab_type": "code",
    "executionInfo": {
     "elapsed": 121717,
     "status": "ok",
     "timestamp": 1593247387691,
     "user": {
      "displayName": "강소영",
      "photoUrl": "",
      "userId": "00381892188238952708"
     },
     "user_tz": -540
    },
    "id": "2RbzYH7kY7Jg"
   },
   "outputs": [],
   "source": [
    "# list of benchmarks for each label\n",
    "benchmark = []\n",
    "for i in range(10):\n",
    "    tmp = []\n",
    "    for j in range(len(lst[i])):\n",
    "        tmp.append(lst[i][j])\n",
    "    benchmark.append(np.mean(np.array(tmp), axis=0))"
   ]
  },
  {
   "cell_type": "code",
   "execution_count": 19,
   "metadata": {
    "colab": {
     "base_uri": "https://localhost:8080/",
     "height": 265
    },
    "colab_type": "code",
    "executionInfo": {
     "elapsed": 628,
     "status": "ok",
     "timestamp": 1593247563728,
     "user": {
      "displayName": "강소영",
      "photoUrl": "",
      "userId": "00381892188238952708"
     },
     "user_tz": -540
    },
    "id": "g3JivYorgxQi",
    "outputId": "49e62bb8-3077-430c-ec8a-e01bc391a1d4"
   },
   "outputs": [
    {
     "name": "stderr",
     "output_type": "stream",
     "text": [
      "WARNING: Logging before flag parsing goes to stderr.\n",
      "W0628 14:15:20.282444 140734809017792 deprecation.py:323] From <ipython-input-13-283aa33df260>:5: Sequential.predict_proba (from tensorflow.python.keras.engine.sequential) is deprecated and will be removed after 2021-01-01.\n",
      "Instructions for updating:\n",
      "Please use `model.predict()` instead.\n"
     ]
    }
   ],
   "source": [
    "# dictionary of mal-predicted indices \n",
    "wrong = {}\n",
    "\n",
    "for i in range(x_test.shape[0]):\n",
    "    pred = predict(i)\n",
    "    if pred[0] != pred[1]:\n",
    "        wrong[i] = (pred[0], pred[1])"
   ]
  },
  {
   "cell_type": "code",
   "execution_count": 43,
   "metadata": {},
   "outputs": [],
   "source": [
    "#choice = []\n",
    "choice = open('dropdown.txt', 'w')\n",
    "for k, v in wrong.items():\n",
    "    string = '%d) predicted: %d, label: %d' %(k, v[0], v[1])\n",
    "    #choice.append(string)\n",
    "    choice.write(string + '\\n')"
   ]
  },
  {
   "cell_type": "markdown",
   "metadata": {},
   "source": [
    "## ----------------------------------\n",
    "# visit mnist_voila.ipynb"
   ]
  },
  {
   "cell_type": "code",
   "execution_count": 39,
   "metadata": {
    "colab": {},
    "colab_type": "code",
    "executionInfo": {
     "elapsed": 1097,
     "status": "ok",
     "timestamp": 1593247688747,
     "user": {
      "displayName": "강소영",
      "photoUrl": "",
      "userId": "00381892188238952708"
     },
     "user_tz": -540
    },
    "id": "Kxdxz9M8iSPU"
   },
   "outputs": [],
   "source": [
    "# compare and contrast by tensor subtraction\n",
    "def plotCompare(feature1, feature2):\n",
    "    if feature1.shape != feature2.shape:\n",
    "        print(\"Shapes don't match\")\n",
    "        return\n",
    "\n",
    "    feature1 = K.eval(feature1)\n",
    "    feature2 = K.eval(feature2)\n",
    "    filters = feature1.shape[3]  # number of filters\n",
    "    #plt.figure(1, figsize=(20,20))\n",
    "    n_columns = 5\n",
    "    n_rows = math.ceil(filters / n_columns) + 1\n",
    "\n",
    "    for i in range(filters):\n",
    "        gap = tf.math.abs(tf.math.subtract(feature1[0,:,:,i], feature2[0,:,:,i]))\n",
    "        plt.subplot(n_rows, n_columns, i+1)\n",
    "        plt.title('Filter ' + str(i))\n",
    "        plt.imshow(gap, interpolation='nearest', cmap='gray')"
   ]
  },
  {
   "cell_type": "code",
   "execution_count": null,
   "metadata": {},
   "outputs": [],
   "source": [
    "### Interactive Widget"
   ]
  },
  {
   "cell_type": "code",
   "execution_count": 21,
   "metadata": {},
   "outputs": [],
   "source": [
    "import ipywidgets as widgets\n",
    "from ipywidgets import interact_manual\n",
    "import seaborn as sns"
   ]
  },
  {
   "cell_type": "code",
   "execution_count": 22,
   "metadata": {},
   "outputs": [],
   "source": [
    "choice = []\n",
    "for k, v in wrong.items():\n",
    "    string = '%d) predicted: %d, label: %d' %(k, v[0], v[1])\n",
    "    choice.append(string)"
   ]
  },
  {
   "cell_type": "code",
   "execution_count": 40,
   "metadata": {},
   "outputs": [
    {
     "data": {
      "application/vnd.jupyter.widget-view+json": {
       "model_id": "2d4c0a10bbf84c8b912e2dcc3a489253",
       "version_major": 2,
       "version_minor": 0
      },
      "text/plain": [
       "interactive(children=(Dropdown(description='Image', options=('1) predicted: 3, label: 2', '4) predicted: 9, la…"
      ]
     },
     "metadata": {},
     "output_type": "display_data"
    }
   ],
   "source": [
    "@interact_manual\n",
    "def filterViz(Image = choice, Layer = [0, 1, 2]):\n",
    "    i = Image.split(')')\n",
    "    idx = int(i[0])\n",
    "    i = Image.split(',')\n",
    "    predicted = int(i[0][-1])\n",
    "    answer = int(i[1][-1])\n",
    "    \n",
    "    hiddens = get_hidden_layers(idx)    \n",
    "    hiddens_p = get_hidden_layers(predicted, True)\n",
    "    hiddens_a = get_hidden_layers(answer, True)\n",
    "    \n",
    "    %matplotlib inline\n",
    "    sns.set_style('darkgrid')\n",
    "    \n",
    "    fig1 = plt.figure(1)\n",
    "    fig1.suptitle(f'Predicted to be {predicted}; Answer is {answer}', fontsize=20)\n",
    "    predict(idx, True)\n",
    "    \n",
    "    fig2 = plt.figure(2, figsize=(50,20))\n",
    "    fig2.suptitle(f'Hidden layer{Layer} of the image', fontsize=50)\n",
    "    plotNNFilter(hiddens[Layer])\n",
    "\n",
    "    fig3 = plt.figure(3, figsize=(50,20))\n",
    "    fig3.suptitle(f'Hidden layer{Layer} of benchmark {predicted}', fontsize=50)\n",
    "    plotNNFilter(hiddens_p[Layer])\n",
    "    \n",
    "    fig4 = plt.figure(4, figsize=(50,20))\n",
    "    fig4.suptitle(f'Hidden layer{Layer} of benchmark {answer}', fontsize=50)\n",
    "    plotNNFilter(hiddens_a[Layer])\n",
    "    \n",
    "    fig5 = plt.figure(5, figsize=(50,20))\n",
    "    fig5.suptitle(f'Compare n Contrast with benchmark {predicted}', fontsize=50)\n",
    "    plotCompare(hiddens_p[Layer], hiddens[Layer])\n",
    "\n",
    "    fig6 = plt.figure(6, figsize=(50,20))\n",
    "    fig6.suptitle(f'Compare n Contrast with benchmark {answer}', fontsize=50)\n",
    "    plotCompare(hiddens_a[Layer], hiddens[Layer])\n",
    "    \n",
    "    plt.show()"
   ]
  }
 ],
 "metadata": {
  "accelerator": "GPU",
  "colab": {
   "authorship_tag": "ABX9TyNkse2p0VP1mXmijvQqu1BO",
   "collapsed_sections": [],
   "name": "mnist_keras.ipynb",
   "provenance": []
  },
  "kernelspec": {
   "display_name": "Python 3",
   "language": "python",
   "name": "python3"
  },
  "language_info": {
   "codemirror_mode": {
    "name": "ipython",
    "version": 3
   },
   "file_extension": ".py",
   "mimetype": "text/x-python",
   "name": "python",
   "nbconvert_exporter": "python",
   "pygments_lexer": "ipython3",
   "version": "3.6.4"
  }
 },
 "nbformat": 4,
 "nbformat_minor": 1
}
