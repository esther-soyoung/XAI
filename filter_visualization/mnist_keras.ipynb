{
 "cells": [
  {
   "cell_type": "markdown",
   "metadata": {
    "colab_type": "text",
    "id": "jXZgQvYv9zur"
   },
   "source": [
    "# Model Training"
   ]
  },
  {
   "cell_type": "code",
   "execution_count": 39,
   "metadata": {
    "colab": {},
    "colab_type": "code",
    "executionInfo": {
     "elapsed": 850,
     "status": "ok",
     "timestamp": 1593247266652,
     "user": {
      "displayName": "강소영",
      "photoUrl": "",
      "userId": "00381892188238952708"
     },
     "user_tz": -540
    },
    "id": "C49S_ZuVzUFL"
   },
   "outputs": [],
   "source": [
    "import tensorflow as tf\n",
    "\n",
    "import keras\n",
    "from keras.datasets import mnist\n",
    "from keras.models import Sequential\n",
    "from keras.layers import Dense, Dropout, Flatten\n",
    "from keras.layers import Conv2D, MaxPooling2D\n",
    "from keras import backend as K"
   ]
  },
  {
   "cell_type": "code",
   "execution_count": 40,
   "metadata": {
    "colab": {},
    "colab_type": "code",
    "executionInfo": {
     "elapsed": 1912,
     "status": "ok",
     "timestamp": 1593247267719,
     "user": {
      "displayName": "강소영",
      "photoUrl": "",
      "userId": "00381892188238952708"
     },
     "user_tz": -540
    },
    "id": "w5baw-g11VZU"
   },
   "outputs": [],
   "source": [
    "(x_train, y_train), (x_test, y_test) = mnist.load_data()"
   ]
  },
  {
   "cell_type": "code",
   "execution_count": 41,
   "metadata": {
    "colab": {},
    "colab_type": "code",
    "executionInfo": {
     "elapsed": 1875,
     "status": "ok",
     "timestamp": 1593247267722,
     "user": {
      "displayName": "강소영",
      "photoUrl": "",
      "userId": "00381892188238952708"
     },
     "user_tz": -540
    },
    "id": "DZ5F6Gw1zqPV"
   },
   "outputs": [],
   "source": [
    "batchSize = 128\n",
    "numClass = 10\n",
    "epochs = 12\n",
    "\n",
    "img_rows, img_cols = 28, 28"
   ]
  },
  {
   "cell_type": "code",
   "execution_count": 42,
   "metadata": {
    "colab": {},
    "colab_type": "code",
    "executionInfo": {
     "elapsed": 1871,
     "status": "ok",
     "timestamp": 1593247267723,
     "user": {
      "displayName": "강소영",
      "photoUrl": "",
      "userId": "00381892188238952708"
     },
     "user_tz": -540
    },
    "id": "qkFyWXv_8B7b"
   },
   "outputs": [],
   "source": [
    "if K.image_data_format() == 'channels_first':\n",
    "    x_train = x_train.reshape(x_train.shape[0], 1, img_rows, img_cols)\n",
    "    x_test = x_test.reshape(x_test.shape[0], 1, img_rows, img_cols)\n",
    "    input_shape = (1, img_rows, img_cols)\n",
    "else:\n",
    "    x_train = x_train.reshape(x_train.shape[0], img_rows, img_cols, 1)\n",
    "    x_test = x_test.reshape(x_test.shape[0], img_rows, img_cols, 1)\n",
    "    input_shape = (img_rows, img_cols, 1)"
   ]
  },
  {
   "cell_type": "code",
   "execution_count": 43,
   "metadata": {
    "colab": {},
    "colab_type": "code",
    "executionInfo": {
     "elapsed": 1867,
     "status": "ok",
     "timestamp": 1593247267723,
     "user": {
      "displayName": "강소영",
      "photoUrl": "",
      "userId": "00381892188238952708"
     },
     "user_tz": -540
    },
    "id": "UmzchqDe9BDL"
   },
   "outputs": [],
   "source": [
    "x_train = x_train.astype('float32')\n",
    "x_test = x_test.astype('float32')\n",
    "\n",
    "x_train /= 255\n",
    "x_test /= 255"
   ]
  },
  {
   "cell_type": "code",
   "execution_count": 44,
   "metadata": {
    "colab": {},
    "colab_type": "code",
    "executionInfo": {
     "elapsed": 1864,
     "status": "ok",
     "timestamp": 1593247267724,
     "user": {
      "displayName": "강소영",
      "photoUrl": "",
      "userId": "00381892188238952708"
     },
     "user_tz": -540
    },
    "id": "EGVPRNc493e2"
   },
   "outputs": [],
   "source": [
    "y_train = keras.utils.to_categorical(y_train, numClass)\n",
    "y_test = keras.utils.to_categorical(y_test, numClass)"
   ]
  },
  {
   "cell_type": "code",
   "execution_count": 45,
   "metadata": {
    "colab": {},
    "colab_type": "code",
    "executionInfo": {
     "elapsed": 1859,
     "status": "ok",
     "timestamp": 1593247267724,
     "user": {
      "displayName": "강소영",
      "photoUrl": "",
      "userId": "00381892188238952708"
     },
     "user_tz": -540
    },
    "id": "HUCzZbGA99b4"
   },
   "outputs": [],
   "source": [
    "model = Sequential()\n",
    "model.add(Conv2D(32, kernel_size=(3,3), \\\n",
    "                 activation='relu', input_shape=input_shape, \\\n",
    "                 padding='same', name='layer0'))\n",
    "#model.add(MaxPooling2D(pool_size=(2,2)))\n",
    "model.add(Conv2D(64, (3,3), activation='relu', padding='same', name='layer1'))\n",
    "#model.add(Conv2D(20, (5,5), activation='relu', padding='same', name='layer2'))\n",
    "model.add(MaxPooling2D(pool_size=(2,2)))\n",
    "model.add(Dropout(0.25))\n",
    "model.add(Flatten())\n",
    "model.add(Dense(128, activation='relu'))\n",
    "model.add(Dropout(0.5))\n",
    "model.add(Dense(numClass, activation='softmax'))"
   ]
  },
  {
   "cell_type": "code",
   "execution_count": 46,
   "metadata": {
    "colab": {},
    "colab_type": "code",
    "executionInfo": {
     "elapsed": 1855,
     "status": "ok",
     "timestamp": 1593247267724,
     "user": {
      "displayName": "강소영",
      "photoUrl": "",
      "userId": "00381892188238952708"
     },
     "user_tz": -540
    },
    "id": "BynmShkB-yVG"
   },
   "outputs": [],
   "source": [
    "model.compile(loss=keras.losses.categorical_crossentropy, \\\n",
    "              optimizer=keras.optimizers.Adadelta(), \\\n",
    "              metrics=['accuracy'])"
   ]
  },
  {
   "cell_type": "code",
   "execution_count": 47,
   "metadata": {
    "colab": {
     "base_uri": "https://localhost:8080/",
     "height": 442
    },
    "colab_type": "code",
    "executionInfo": {
     "elapsed": 121208,
     "status": "ok",
     "timestamp": 1593247387085,
     "user": {
      "displayName": "강소영",
      "photoUrl": "",
      "userId": "00381892188238952708"
     },
     "user_tz": -540
    },
    "id": "qk12Ks3Z-72B",
    "outputId": "b0f16da5-bbcb-4fa4-9142-f871daea7b98"
   },
   "outputs": [
    {
     "name": "stdout",
     "output_type": "stream",
     "text": [
      "Epoch 1/12\n",
      "469/469 [==============================] - 68s 145ms/step - loss: 2.2711 - accuracy: 0.1789 - val_loss: 2.2326 - val_accuracy: 0.4610\n",
      "Epoch 2/12\n",
      "469/469 [==============================] - 64s 137ms/step - loss: 2.2065 - accuracy: 0.3221 - val_loss: 2.1525 - val_accuracy: 0.5943\n",
      "Epoch 3/12\n",
      "469/469 [==============================] - 64s 137ms/step - loss: 2.1194 - accuracy: 0.4322 - val_loss: 2.0421 - val_accuracy: 0.6596\n",
      "Epoch 4/12\n",
      "469/469 [==============================] - 65s 138ms/step - loss: 2.0011 - accuracy: 0.5007 - val_loss: 1.8912 - val_accuracy: 0.6950\n",
      "Epoch 5/12\n",
      "469/469 [==============================] - 65s 138ms/step - loss: 1.8467 - accuracy: 0.5534 - val_loss: 1.6957 - val_accuracy: 0.7258\n",
      "Epoch 6/12\n",
      "469/469 [==============================] - 70s 149ms/step - loss: 1.6606 - accuracy: 0.5917 - val_loss: 1.4703 - val_accuracy: 0.7513\n",
      "Epoch 7/12\n",
      "469/469 [==============================] - 72s 154ms/step - loss: 1.4631 - accuracy: 0.6290 - val_loss: 1.2470 - val_accuracy: 0.7768\n",
      "Epoch 8/12\n",
      "469/469 [==============================] - 65s 140ms/step - loss: 1.2892 - accuracy: 0.6554 - val_loss: 1.0584 - val_accuracy: 0.7978\n",
      "Epoch 9/12\n",
      "469/469 [==============================] - 65s 138ms/step - loss: 1.1491 - accuracy: 0.6821 - val_loss: 0.9125 - val_accuracy: 0.8166\n",
      "Epoch 10/12\n",
      "469/469 [==============================] - 66s 141ms/step - loss: 1.0392 - accuracy: 0.7042 - val_loss: 0.8031 - val_accuracy: 0.8300\n",
      "Epoch 11/12\n",
      "469/469 [==============================] - 66s 142ms/step - loss: 0.9528 - accuracy: 0.7204 - val_loss: 0.7207 - val_accuracy: 0.8402\n",
      "Epoch 12/12\n",
      "469/469 [==============================] - 67s 143ms/step - loss: 0.8920 - accuracy: 0.7350 - val_loss: 0.6585 - val_accuracy: 0.8497\n"
     ]
    }
   ],
   "source": [
    "model.fit(x_train, y_train, batch_size=batchSize, epochs=epochs, \\\n",
    "          verbose=1, validation_data=(x_test, y_test))\n",
    "score = model.evaluate(x_test, y_test, verbose=0)"
   ]
  },
  {
   "cell_type": "code",
   "execution_count": 48,
   "metadata": {
    "colab": {
     "base_uri": "https://localhost:8080/",
     "height": 51
    },
    "colab_type": "code",
    "executionInfo": {
     "elapsed": 121191,
     "status": "ok",
     "timestamp": 1593247387086,
     "user": {
      "displayName": "강소영",
      "photoUrl": "",
      "userId": "00381892188238952708"
     },
     "user_tz": -540
    },
    "id": "aKgbPfPw5w_g",
    "outputId": "4a28141f-c302-46aa-a125-09cd0d508cd1"
   },
   "outputs": [
    {
     "name": "stdout",
     "output_type": "stream",
     "text": [
      "Test loss:  0.6584964394569397\n",
      "Test accuracy:  0.8496999740600586\n"
     ]
    }
   ],
   "source": [
    "print('Test loss: ', score[0])\n",
    "print('Test accuracy: ', score[1])"
   ]
  },
  {
   "cell_type": "code",
   "execution_count": 11,
   "metadata": {
    "colab": {
     "base_uri": "https://localhost:8080/",
     "height": 493
    },
    "colab_type": "code",
    "executionInfo": {
     "elapsed": 121174,
     "status": "ok",
     "timestamp": 1593247387087,
     "user": {
      "displayName": "강소영",
      "photoUrl": "",
      "userId": "00381892188238952708"
     },
     "user_tz": -540
    },
    "id": "WiGLwQUEuGed",
    "outputId": "3cfe4234-2711-4438-afa4-06623dc3c53b"
   },
   "outputs": [
    {
     "name": "stdout",
     "output_type": "stream",
     "text": [
      "Model: \"sequential\"\n",
      "_________________________________________________________________\n",
      "Layer (type)                 Output Shape              Param #   \n",
      "=================================================================\n",
      "layer0 (Conv2D)              (None, 28, 28, 5)         130       \n",
      "_________________________________________________________________\n",
      "max_pooling2d (MaxPooling2D) (None, 14, 14, 5)         0         \n",
      "_________________________________________________________________\n",
      "layer1 (Conv2D)              (None, 14, 14, 5)         630       \n",
      "_________________________________________________________________\n",
      "max_pooling2d_1 (MaxPooling2 (None, 7, 7, 5)           0         \n",
      "_________________________________________________________________\n",
      "layer2 (Conv2D)              (None, 7, 7, 20)          2520      \n",
      "_________________________________________________________________\n",
      "dropout (Dropout)            (None, 7, 7, 20)          0         \n",
      "_________________________________________________________________\n",
      "flatten (Flatten)            (None, 980)               0         \n",
      "_________________________________________________________________\n",
      "dense (Dense)                (None, 128)               125568    \n",
      "_________________________________________________________________\n",
      "dropout_1 (Dropout)          (None, 128)               0         \n",
      "_________________________________________________________________\n",
      "dense_1 (Dense)              (None, 10)                1290      \n",
      "=================================================================\n",
      "Total params: 130,138\n",
      "Trainable params: 130,138\n",
      "Non-trainable params: 0\n",
      "_________________________________________________________________\n"
     ]
    }
   ],
   "source": [
    "model.summary()"
   ]
  },
  {
   "cell_type": "code",
   "execution_count": 41,
   "metadata": {},
   "outputs": [
    {
     "name": "stderr",
     "output_type": "stream",
     "text": [
      "W0628 14:36:06.439682 140734809017792 deprecation.py:506] From /Library/Frameworks/Python.framework/Versions/3.6/lib/python3.6/site-packages/tensorflow/python/ops/resource_variable_ops.py:1817: calling BaseResourceVariable.__init__ (from tensorflow.python.ops.resource_variable_ops) with constraint is deprecated and will be removed in a future version.\n",
      "Instructions for updating:\n",
      "If using Keras pass *_constraint arguments to layers.\n"
     ]
    }
   ],
   "source": [
    "model.save('mnist_keras_model')"
   ]
  },
  {
   "cell_type": "markdown",
   "metadata": {
    "colab_type": "text",
    "id": "akGOlWz2_g2s"
   },
   "source": [
    "# Predict"
   ]
  },
  {
   "cell_type": "code",
   "execution_count": 12,
   "metadata": {
    "colab": {},
    "colab_type": "code",
    "executionInfo": {
     "elapsed": 121160,
     "status": "ok",
     "timestamp": 1593247387087,
     "user": {
      "displayName": "강소영",
      "photoUrl": "",
      "userId": "00381892188238952708"
     },
     "user_tz": -540
    },
    "id": "cXMhdkbpAd57"
   },
   "outputs": [],
   "source": [
    "import warnings\n",
    "warnings.filterwarnings(\"ignore\")\n",
    "\n",
    "import numpy as np\n",
    "import matplotlib.pyplot as plt\n",
    "%matplotlib inline"
   ]
  },
  {
   "cell_type": "code",
   "execution_count": 13,
   "metadata": {
    "colab": {},
    "colab_type": "code",
    "executionInfo": {
     "elapsed": 121157,
     "status": "ok",
     "timestamp": 1593247387088,
     "user": {
      "displayName": "강소영",
      "photoUrl": "",
      "userId": "00381892188238952708"
     },
     "user_tz": -540
    },
    "id": "39wOtzVsfIlH"
   },
   "outputs": [],
   "source": [
    "def predict(idx, verbose=False):\n",
    "    img = x_test[idx]\n",
    "    label = y_test[idx]\n",
    "\n",
    "    predict = model.predict_proba(np.expand_dims(img, axis=0))\n",
    "    if verbose:\n",
    "        print(f'Index: {idx}')\n",
    "        cnt = 0\n",
    "        for i in predict[0]:\n",
    "            print('[{}] {:.2%}'.format(cnt, i))\n",
    "            cnt += 1\n",
    "        print('Predicted: ', predict[0].argmax())\n",
    "        print('Label: ', label.argmax())\n",
    "        plt.imshow(np.reshape(img, [28, 28]),interpolation='nearest', cmap='gray')\n",
    "    return (predict[0].argmax(), label.argmax())"
   ]
  },
  {
   "cell_type": "code",
   "execution_count": 19,
   "metadata": {
    "colab": {
     "base_uri": "https://localhost:8080/",
     "height": 265
    },
    "colab_type": "code",
    "executionInfo": {
     "elapsed": 628,
     "status": "ok",
     "timestamp": 1593247563728,
     "user": {
      "displayName": "강소영",
      "photoUrl": "",
      "userId": "00381892188238952708"
     },
     "user_tz": -540
    },
    "id": "g3JivYorgxQi",
    "outputId": "49e62bb8-3077-430c-ec8a-e01bc391a1d4"
   },
   "outputs": [
    {
     "name": "stderr",
     "output_type": "stream",
     "text": [
      "WARNING: Logging before flag parsing goes to stderr.\n",
      "W0628 14:15:20.282444 140734809017792 deprecation.py:323] From <ipython-input-13-283aa33df260>:5: Sequential.predict_proba (from tensorflow.python.keras.engine.sequential) is deprecated and will be removed after 2021-01-01.\n",
      "Instructions for updating:\n",
      "Please use `model.predict()` instead.\n"
     ]
    }
   ],
   "source": [
    "# dictionary of mal-predicted indices \n",
    "wrong = {}\n",
    "\n",
    "for i in range(x_test.shape[0]):\n",
    "    pred = predict(i)\n",
    "    if pred[0] != pred[1]:\n",
    "        wrong[i] = (pred[0], pred[1])"
   ]
  },
  {
   "cell_type": "code",
   "execution_count": 43,
   "metadata": {},
   "outputs": [],
   "source": [
    "#choice = []\n",
    "choice = open('dropdown.txt', 'w')\n",
    "for k, v in wrong.items():\n",
    "    string = '%d) predicted: %d, label: %d' %(k, v[0], v[1])\n",
    "    #choice.append(string)\n",
    "    choice.write(string + '\\n')"
   ]
  }
 ],
 "metadata": {
  "accelerator": "GPU",
  "colab": {
   "authorship_tag": "ABX9TyNkse2p0VP1mXmijvQqu1BO",
   "collapsed_sections": [],
   "name": "mnist_keras.ipynb",
   "provenance": []
  },
  "kernelspec": {
   "display_name": "Python 3",
   "language": "python",
   "name": "python3"
  },
  "language_info": {
   "codemirror_mode": {
    "name": "ipython",
    "version": 3
   },
   "file_extension": ".py",
   "mimetype": "text/x-python",
   "name": "python",
   "nbconvert_exporter": "python",
   "pygments_lexer": "ipython3",
   "version": "3.6.4"
  }
 },
 "nbformat": 4,
 "nbformat_minor": 1
}
